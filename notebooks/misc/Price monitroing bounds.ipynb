{
 "cells": [
  {
   "cell_type": "markdown",
   "metadata": {},
   "source": [
    "# Price monitoring bounds\n",
    "\n",
    "This notebook aims to visualise how price monitoring bounds are derived from the underlying risk model and how various parameters affect them."
   ]
  },
  {
   "cell_type": "code",
   "execution_count": null,
   "metadata": {},
   "outputs": [],
   "source": [
    "import enum\n",
    "from statistics import stdev\n",
    "from scipy.stats import lognorm\n",
    "import math\n",
    "import numpy as np\n",
    "import matplotlib.pyplot as plt\n",
    "from utils.helpers import *\n",
    "from tabulate import tabulate\n",
    "\n",
    "\n",
    "# model parameters\n",
    "mu = 0\n",
    "sigma = 2\n",
    "# price monitoring triggers\n",
    "year_fraction = 1.0 / 12\n",
    "probability_levels=[0.9, 0.95, 0.99]\n",
    "# market\n",
    "reference_price = 100.0\n",
    "\n",
    "m = math.log(reference_price) + (mu-0.5*sigma*sigma)*year_fraction\n",
    "stddev = sigma * math.sqrt(year_fraction)\n",
    "dist=lognorm(s=stddev,scale=math.exp(m))\n",
    "\n",
    "fig, axs = plt.subplots(nrows=len(probability_levels), ncols=1, figsize=(10,25))\n",
    "fig.text(0.25, 0.91, \"$\\mu={:.1f}, \\sigma={:.1f}$, reference price = {:.0f}\".format(mu, sigma, reference_price), fontsize=20, verticalalignment='top', ha=\"left\", bbox=dict(boxstyle='round', facecolor='wheat', alpha=0.5))\n",
    "\n",
    "def plot(distribution, prob, ax):\n",
    "    \n",
    "    q = (1 - prob) / 2\n",
    "    min_price = dist.ppf(q)\n",
    "    max_price = dist.ppf(prob + q)\n",
    "\n",
    "    x=np.linspace(0,3*max_price,10000).flatten()\n",
    "    y = dist.pdf(x)\n",
    "    ax.plot(x, y, color='blue')\n",
    "\n",
    "    valid_prices = np.logical_and(x >= min_price, x <= max_price)\n",
    "    ax.fill_between(x, 0, y, where=valid_prices,color='green', alpha=0.5)\n",
    "    ax.fill_between(x, 0, y, where=np.logical_not(valid_prices),color='red', alpha=0.5)\n",
    "\n",
    "    ax.text(0.20, 0.19, f'{int(prob*100)}%', horizontalalignment='center',\n",
    "        verticalalignment='center', transform=ax.transAxes, fontsize=60, color='darkgreen')\n",
    "\n",
    "    textstr = '\\n'.join((\n",
    "        \"horizon = %.4f\" % (year_fraction, ),\n",
    "        \"probability level = %.2f \" % (prob, )))\n",
    "    ax.text(0.53, 0.95, textstr, transform=ax.transAxes, fontsize=20,\n",
    "            verticalalignment='top', bbox=dict(boxstyle='round', facecolor='wheat', alpha=0.5))\n",
    "\n",
    "    textstr2 = '\\n'.join((\n",
    "        \"min valid price  = %.1f\" % (min_price, ),\n",
    "        \"max valid price = %.1f\" % (max_price, )))\n",
    "    ax.text(0.53, 0.79, textstr2, transform=ax.transAxes, fontsize=20,\n",
    "            verticalalignment='top', bbox=dict(boxstyle='round', facecolor='green', alpha=0.5))\n",
    "\n",
    "    return min_price, max_price\n",
    "\n",
    "for i, p in enumerate(probability_levels):\n",
    "    if len(probability_levels) == 1:  \n",
    "        plot(dist, p, axs)\n",
    "        axs.set_xlim([0,500])\n",
    "    else:\n",
    "        plot(dist, p, axs[i])\n",
    "        axs[i].set_xlim([0,500])\n",
    "\n",
    "plt.show()\n",
    "# fig.savefig('distribution.png', dpi=100)"
   ]
  }
 ],
 "metadata": {
  "kernelspec": {
   "display_name": "Python 3.7.6 ('base')",
   "language": "python",
   "name": "python3"
  },
  "language_info": {
   "codemirror_mode": {
    "name": "ipython",
    "version": 3
   },
   "file_extension": ".py",
   "mimetype": "text/x-python",
   "name": "python",
   "nbconvert_exporter": "python",
   "pygments_lexer": "ipython3",
   "version": "3.11.6"
  },
  "orig_nbformat": 4,
  "vscode": {
   "interpreter": {
    "hash": "3067ead486e059ec00ffe7555bdb889e6e264a24dc711bf108106cc7baee8d5d"
   }
  }
 },
 "nbformat": 4,
 "nbformat_minor": 2
}
