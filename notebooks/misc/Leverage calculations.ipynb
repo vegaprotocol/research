{
 "cells": [
  {
   "cell_type": "markdown",
   "metadata": {},
   "source": [
    "# Leverage calculations from market data\n",
    "\n",
    "A simple notebook showing leverage calculations based on market data obtined via the API.\n",
    "\n",
    "Resources:\n",
    "- [Testnet](https://console.fairground.wtf/)\n",
    "- [API docs](https://docs.fairground.vega.xyz/docs/apis/)"
   ]
  },
  {
   "cell_type": "markdown",
   "metadata": {},
   "source": [
    "## [gRPC](https://docs.fairground.vega.xyz/docs/apis/grpc/)\n",
    "\n",
    "Uncomment the cell below to install the [Vega-API-client](https://pypi.org/project/Vega-API-client/) for Python if you've not done it yet."
   ]
  },
  {
   "cell_type": "code",
   "execution_count": 2,
   "metadata": {},
   "outputs": [],
   "source": [
    "# !pip install --upgrade Vega-API-client"
   ]
  },
  {
   "cell_type": "code",
   "execution_count": 3,
   "metadata": {},
   "outputs": [],
   "source": [
    "import vegaapiclient as vac\n",
    "import math\n",
    "node_url_grpc=\"n06.testnet.vega.xyz:3007\"\n",
    "data_client = vac.VegaTradingDataClient(node_url_grpc)\n",
    "\n",
    "def round_sd(number):\n",
    "    significant_digits = 4\n",
    "    return round(number, significant_digits - math.floor(math.log10(abs(number))) - 1)"
   ]
  },
  {
   "cell_type": "markdown",
   "metadata": {},
   "source": [
    "### Specify public key for the party\n",
    "\n",
    "Specify the your public key in the cell below. It can be found in the [wallet side panel](https://console.fairground.wtf/wallet/) in the Console.\n",
    "\n",
    "![](./resources/pubkey.png)"
   ]
  },
  {
   "cell_type": "code",
   "execution_count": 4,
   "metadata": {},
   "outputs": [],
   "source": [
    "pubkey=\"73ce9e7fbda4e8ae4dec66e9786c17fd7a31a32a616b3287615b421877e3a8a6\"\n",
    "party_positions = data_client.PositionsByParty(vac.data_node.api.v1.trading_data.PositionsByPartyRequest(party_id=pubkey))\n",
    "if len(party_positions.positions) == 0:\n",
    "    print(\"party with the public key specified has no open positions\")\n",
    "    exit()\n"
   ]
  },
  {
   "cell_type": "code",
   "execution_count": 6,
   "metadata": {},
   "outputs": [
    {
     "name": "stdout",
     "output_type": "stream",
     "text": [
      "[maintenance_margin: \"6259204\"\n",
      "search_level: \"6885124\"\n",
      "initial_margin: \"9388806\"\n",
      "collateral_release_level: \"10640646\"\n",
      "party_id: \"73ce9e7fbda4e8ae4dec66e9786c17fd7a31a32a616b3287615b421877e3a8a6\"\n",
      "market_id: \"c68c3af7119f87a17c3225bbc33814a3d9163a71395a199b700fa5d742d90726\"\n",
      "asset: \"8b52d4a3a4b0ffe733cddbc2b67be273816cfeb6ca4c8b339bac03ffba08e4e4\"\n",
      "timestamp: 1654605727973611252\n",
      "]\n",
      "\tmarket: Tesla Quarterly (30 Jun 2022)\n",
      "\t\teffective position leverage: ~-0.5651x\n",
      "\t\tleverage per margin level:\n",
      "\t\t\tmaintenance:         ~-42.42x\n",
      "\t\t\tsearch               ~-42.42x\n",
      "\t\t\tinitial              ~-28.28x\n",
      "\t\t\trelease              ~-24.95x\n",
      "\t\tcapital utilisation: ~2.057%\n",
      "\t\t\tmaintenance:         ~-2.3578593848897795%\n",
      "\t\t\tsearch               ~-2.3578593848897795%\n",
      "\t\t\tinitial              ~-3.536789077334669%\n",
      "\t\t\trelease              ~-4.007607644604993%\n",
      "[maintenance_margin: \"368893\"\n",
      "search_level: \"405782\"\n",
      "initial_margin: \"553339\"\n",
      "collateral_release_level: \"1180457\"\n",
      "party_id: \"73ce9e7fbda4e8ae4dec66e9786c17fd7a31a32a616b3287615b421877e3a8a6\"\n",
      "market_id: \"3e6671566ccf5c33702e955fe8b018683fcdb812bfe3ed283fc250bb4f798ff3\"\n",
      "asset: \"993ed98f4f770d91a796faab1738551193ba45c62341d20597df70fea6704ede\"\n",
      "timestamp: 1654605772127512455\n",
      "]\n",
      "\tmarket: Apple Monthly (30 Jun 2022)\n",
      "\t\teffective position leverage: ~0.08682x\n",
      "\t\tleverage per margin level:\n",
      "\t\t\tmaintenance:         ~117.5x\n",
      "\t\t\tsearch               ~117.5x\n",
      "\t\t\tinitial              ~78.36x\n",
      "\t\t\trelease              ~36.73x\n",
      "\t\tcapital utilisation: ~0.1109%\n",
      "\t\t\tmaintenance:         ~0.8508305399960123%\n",
      "\t\t\tsearch               ~0.8508305399960123%\n",
      "\t\t\tinitial              ~1.2765917698232387%\n",
      "\t\t\trelease              ~2.7227038559644687%\n"
     ]
    }
   ],
   "source": [
    "party_accounts = data_client.PartyAccounts(vac.data_node.api.v1.trading_data.PartyAccountsRequest(party_id=pubkey))\n",
    "\n",
    "for pos in party_positions.positions:\n",
    "    market=data_client.MarketByID(vac.data_node.api.v1.trading_data.MarketByIDRequest(market_id=pos.market_id)).market\n",
    "    market_name=market.tradable_instrument.instrument.name\n",
    "    market_data=data_client.MarketDataByID(vac.data_node.api.v1.trading_data.MarketDataByIDRequest(market_id=pos.market_id)).market_data\n",
    "    margin_acc = next(x for x in party_accounts.accounts if x.market_id == pos.market_id )\n",
    "    gen_acc = next(x for x in party_accounts.accounts if x.type == vac.vega.vega.ACCOUNT_TYPE_GENERAL and x.asset==margin_acc.asset)\n",
    "    \n",
    "    asset_dp = data_client.AssetByID(vac.data_node.api.v1.trading_data.AssetByIDRequest(id=gen_acc.asset)).asset.details.decimals\n",
    "    market_dp = market.decimal_places\n",
    "    \n",
    "    mar_acc_bal = float(margin_acc.balance) / asset_dp\n",
    "    gen_acc_bal = float(gen_acc.balance) / asset_dp\n",
    "\n",
    "    notional=pos.open_volume*float(market_data.mark_price)/market_dp\n",
    "    current_leverage=round_sd(notional/(gen_acc_bal+mar_acc_bal))\n",
    "    capital_utilisation=round_sd((mar_acc_bal/gen_acc_bal)*100)\n",
    "\n",
    "    margin_levels=data_client.MarginLevels(vac.data_node.api.v1.trading_data.MarginLevelsRequest(party_id=pubkey, market_id=pos.market_id)).margin_levels\n",
    "    mar_mant = float(margin_levels[0].maintenance_margin) / market_dp\n",
    "    mar_srch = float(margin_levels[0].maintenance_margin) / market_dp\n",
    "    mar_init = float(margin_levels[0].initial_margin) / market_dp\n",
    "    mar_rel = float(margin_levels[0].collateral_release_level) / market_dp\n",
    "\n",
    "    print(\"\\tmarket: {name}\".format(name=market_name)) \n",
    "    print(\"\\t\\teffective position leverage: ~{lev}x\".format(lev=current_leverage))\n",
    "    print(\"\\t\\tleverage per margin level:\")\n",
    "    print(\"\\t\\t\\t{:<20} ~{}x\".format(\"maintenance:\",round_sd(notional/mar_mant)))\n",
    "    print(\"\\t\\t\\t{:<20} ~{}x\".format(\"search\",round_sd(notional/mar_srch)))\n",
    "    print(\"\\t\\t\\t{:<20} ~{}x\".format(\"initial\",round_sd(notional/mar_init)))\n",
    "    print(\"\\t\\t\\t{:<20} ~{}x\".format(\"release\",round_sd(notional/mar_rel)))\n",
    "    print(\"\\t\\tcapital utilisation: ~{lev}%\".format(lev=capital_utilisation))  \n",
    "    print(\"\\t\\t\\t{:<20} ~{}%\".format(\"maintenance:\",round_sd(mar_mant)/notional*100))\n",
    "    print(\"\\t\\t\\t{:<20} ~{}%\".format(\"search\",round_sd(mar_srch)/notional*100))\n",
    "    print(\"\\t\\t\\t{:<20} ~{}%\".format(\"initial\",round_sd(mar_init)/notional*100))\n",
    "    print(\"\\t\\t\\t{:<20} ~{}%\".format(\"release\",round_sd(mar_rel)/notional*100))\n"
   ]
  },
  {
   "cell_type": "markdown",
   "metadata": {},
   "source": [
    "## [GraphQL](https://docs.fairground.vega.xyz/docs/apis/graphql/)\n",
    "\n",
    "All the data required for above calculations can also be obtained via the GraphQL API. Try going to the [GraphQL playground](https://lb.testnet.vega.xyz/playground) for the testnet and entering the query below (remember to modify the public key to yours) \n",
    "\n",
    "```bash\n",
    "query($pubKey: ID = \"e23f51fa4236ac4c843b56fed310db713055dae5d5ce71b976465295206b11bf\") {        \n",
    "  party(id:$pubKey){\n",
    "    positions {\n",
    "      market {\n",
    "        name,\n",
    "      \tdata {\n",
    "          markPrice\n",
    "        }}\n",
    "      openVolume,\n",
    "      margins {\n",
    "        maintenanceLevel\n",
    "       \tsearchLevel,\n",
    "        initialLevel,\n",
    "        collateralReleaseLevel,\n",
    "      }\n",
    "    },\n",
    "    accounts {\n",
    "      type,\n",
    "      balance,\n",
    "      asset {\n",
    "        name\n",
    "      }, \n",
    "      market {\n",
    "        name\n",
    "      }\n",
    "    }\n",
    "  }\n",
    "}\n",
    "```"
   ]
  }
 ],
 "metadata": {
  "interpreter": {
   "hash": "3067ead486e059ec00ffe7555bdb889e6e264a24dc711bf108106cc7baee8d5d"
  },
  "kernelspec": {
   "display_name": "Python 3",
   "language": "python",
   "name": "python3"
  },
  "language_info": {
   "codemirror_mode": {
    "name": "ipython",
    "version": 3
   },
   "file_extension": ".py",
   "mimetype": "text/x-python",
   "name": "python",
   "nbconvert_exporter": "python",
   "pygments_lexer": "ipython3",
   "version": "3.7.6"
  }
 },
 "nbformat": 4,
 "nbformat_minor": 4
}
