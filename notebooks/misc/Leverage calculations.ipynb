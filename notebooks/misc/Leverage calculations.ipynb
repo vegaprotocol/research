{
 "cells": [
  {
   "cell_type": "markdown",
   "metadata": {},
   "source": [
    "# Leverage calculations from market data\n",
    "\n",
    "A simple notebook showing leverage calculations based on market data obtined via the API.\n",
    "\n",
    "Resources:\n",
    "- [Testnet](https://console.fairground.wtf/)\n",
    "- [API docs](https://docs.fairground.vega.xyz/docs/apis/)"
   ]
  },
  {
   "cell_type": "markdown",
   "metadata": {},
   "source": [
    "## [gRPC](https://docs.fairground.vega.xyz/docs/apis/grpc/)\n",
    "\n",
    "Uncomment the cell below to install the [Vega-API-client](https://pypi.org/project/Vega-API-client/) for Python if you've not done it yet."
   ]
  },
  {
   "cell_type": "code",
   "execution_count": 3,
   "metadata": {},
   "outputs": [
    {
     "output_type": "stream",
     "name": "stdout",
     "text": [
      "Defaulting to user installation because normal site-packages is not writeable\n",
      "Collecting Vega-API-client\n",
      "  Downloading Vega_API_client-0.38.0-py3-none-any.whl (119 kB)\n",
      "\u001b[K     |████████████████████████████████| 119 kB 4.6 MB/s \n",
      "\u001b[?25hRequirement already satisfied: requests in /Users/tamlynrudolph/Library/Python/3.8/lib/python/site-packages (from Vega-API-client) (2.25.1)\n",
      "Collecting grpcio\n",
      "  Downloading grpcio-1.38.0-cp38-cp38-macosx_10_10_x86_64.whl (3.9 MB)\n",
      "\u001b[K     |████████████████████████████████| 3.9 MB 5.0 MB/s \n",
      "\u001b[?25hCollecting googleapis-common-protos\n",
      "  Downloading googleapis_common_protos-1.53.0-py2.py3-none-any.whl (198 kB)\n",
      "\u001b[K     |████████████████████████████████| 198 kB 8.5 MB/s \n",
      "\u001b[?25hCollecting protobuf>=3.12.0\n",
      "  Downloading protobuf-3.17.3-cp38-cp38-macosx_10_9_x86_64.whl (1.0 MB)\n",
      "\u001b[K     |████████████████████████████████| 1.0 MB 6.5 MB/s \n",
      "\u001b[?25hRequirement already satisfied: six>=1.9 in /Library/Developer/CommandLineTools/Library/Frameworks/Python3.framework/Versions/3.8/lib/python3.8/site-packages (from protobuf>=3.12.0->googleapis-common-protos->Vega-API-client) (1.15.0)\n",
      "Requirement already satisfied: idna<3,>=2.5 in /Users/tamlynrudolph/Library/Python/3.8/lib/python/site-packages (from requests->Vega-API-client) (2.10)\n",
      "Requirement already satisfied: chardet<5,>=3.0.2 in /Users/tamlynrudolph/Library/Python/3.8/lib/python/site-packages (from requests->Vega-API-client) (4.0.0)\n",
      "Requirement already satisfied: certifi>=2017.4.17 in /Users/tamlynrudolph/Library/Python/3.8/lib/python/site-packages (from requests->Vega-API-client) (2020.12.5)\n",
      "Requirement already satisfied: urllib3<1.27,>=1.21.1 in /Users/tamlynrudolph/Library/Python/3.8/lib/python/site-packages (from requests->Vega-API-client) (1.26.5)\n",
      "Installing collected packages: protobuf, grpcio, googleapis-common-protos, Vega-API-client\n",
      "Successfully installed Vega-API-client-0.38.0 googleapis-common-protos-1.53.0 grpcio-1.38.0 protobuf-3.17.3\n",
      "Note: you may need to restart the kernel to use updated packages.\n"
     ]
    }
   ],
   "source": [
    "#pip install --upgrade Vega-API-client;"
   ]
  },
  {
   "cell_type": "code",
   "execution_count": 4,
   "metadata": {},
   "outputs": [],
   "source": [
    "import vegaapiclient as vac\n",
    "import math\n",
    "node_url_grpc=\"n06.testnet.vega.xyz:3002\"\n",
    "data_client = vac.VegaTradingDataClient(node_url_grpc)\n",
    "\n",
    "def round_sd(number):\n",
    "    significant_digits = 4\n",
    "    return round(number, significant_digits - math.floor(math.log10(abs(number))) - 1)"
   ]
  },
  {
   "cell_type": "markdown",
   "metadata": {},
   "source": [
    "### Specify public key for the party\n",
    "\n",
    "Specify the your public key in the cell below. It can be found in the [wallet side panel](https://console.fairground.wtf/wallet/) in the Console.\n",
    "\n",
    "![](./resources/pubkey.png)"
   ]
  },
  {
   "cell_type": "code",
   "execution_count": 5,
   "metadata": {},
   "outputs": [],
   "source": [
    "pubkey=\"9f6140abd99e18848e89f8bd9fdad34d9b04409f2c998688205de33016522fde\""
   ]
  },
  {
   "cell_type": "code",
   "execution_count": 15,
   "metadata": {},
   "outputs": [
    {
     "output_type": "stream",
     "name": "stdout",
     "text": [
      "\tmarket: BTCUSD Monthly (30 Jun 2021)\n\t\teffective position leverage: ~0.7768x\n\t\tleverage per margin level:\n\t\t\tmaintenance:         ~46.75x\n\t\t\tsearch               ~45.61x\n\t\t\tinitial              ~44.53x\n\t\t\trelease              ~19.0x\n\t\tcapital utilisation: ~2.198%\n\t\t\tmaintenance:         ~2.1383335907812353%\n\t\t\tsearch               ~2.192370901739606%\n\t\t\tinitial              ~2.2464082126979767%\n\t\t\trelease              ~5.264778010515533%\n\tmarket: AAVEDAI Monthly (30 Jun 2021)\n\t\teffective position leverage: ~0.003131x\n\t\tleverage per margin level:\n\t\t\tmaintenance:         ~70.7x\n\t\t\tsearch               ~68.97x\n\t\t\tinitial              ~67.33x\n\t\t\trelease              ~64.27x\n\t\tcapital utilisation: ~0.00465%\n\t\t\tmaintenance:         ~1.4145696498078846%\n\t\t\tsearch               ~1.4498033956979335%\n\t\t\tinitial              ~1.4853633799758532%\n\t\t\trelease              ~1.5558308717559506%\n"
     ]
    }
   ],
   "source": [
    "party_positions = data_client.PositionsByParty(vac.api.trading.PositionsByPartyRequest(party_id=pubkey))\n",
    "if len(party_positions.positions) == 0:\n",
    "    print(\"party with the public key specified has no open positions\")\n",
    "    exit()\n",
    "\n",
    "party_accounts = data_client.PartyAccounts(vac.api.trading.PartyAccountsRequest(party_id=pubkey))\n",
    "\n",
    "for pos in party_positions.positions:\n",
    "    market_name=data_client.MarketByID(vac.api.trading.MarketByIDRequest(market_id=pos.market_id)).market.tradable_instrument.instrument.name\n",
    "    market_data=data_client.MarketDataByID(vac.api.trading.MarketDataByIDRequest(market_id=pos.market_id)).market_data\n",
    "    margin_acc = next(x for x in party_accounts.accounts if x.market_id == pos.market_id )\n",
    "    gen_acc = next(x for x in party_accounts.accounts if x.type == vac.vega.ACCOUNT_TYPE_GENERAL and x.asset==margin_acc.asset)\n",
    "    \n",
    "    notional=pos.open_volume*market_data.mark_price\n",
    "    current_leverage=round_sd(notional/(gen_acc.balance+margin_acc.balance))\n",
    "    capital_utilisation=round_sd((margin_acc.balance/gen_acc.balance)*100)\n",
    "\n",
    "    margin_levels=data_client.MarginLevels(vac.api.trading.MarginLevelsRequest(party_id=pubkey, market_id=pos.market_id)).margin_levels\n",
    "\n",
    "    print(\"\\tmarket: {name}\".format(name=market_name)) \n",
    "    print(\"\\t\\teffective position leverage: ~{lev}x\".format(lev=current_leverage))\n",
    "    print(\"\\t\\tleverage per margin level:\")\n",
    "    print(\"\\t\\t\\t{:<20} ~{}x\".format(\"maintenance:\",round_sd(notional/margin_levels[0].maintenance_margin)))\n",
    "    print(\"\\t\\t\\t{:<20} ~{}x\".format(\"search\",round_sd(notional/margin_levels[0].search_level)))\n",
    "    print(\"\\t\\t\\t{:<20} ~{}x\".format(\"initial\",round_sd(notional/margin_levels[0].initial_margin)))\n",
    "    print(\"\\t\\t\\t{:<20} ~{}x\".format(\"release\",round_sd(notional/margin_levels[0].collateral_release_level)))\n",
    "    print(\"\\t\\tcapital utilisation: ~{lev}%\".format(lev=capital_utilisation))  \n",
    "    print(\"\\t\\t\\t{:<20} ~{}%\".format(\"maintenance:\",round_sd(margin_levels[0].maintenance_margin)/notional*100))\n",
    "    print(\"\\t\\t\\t{:<20} ~{}%\".format(\"search\",round_sd(margin_levels[0].search_level)/notional*100))\n",
    "    print(\"\\t\\t\\t{:<20} ~{}%\".format(\"initial\",round_sd(margin_levels[0].initial_margin)/notional*100))\n",
    "    print(\"\\t\\t\\t{:<20} ~{}%\".format(\"release\",round_sd(margin_levels[0].collateral_release_level)/notional*100))\n"
   ]
  },
  {
   "cell_type": "markdown",
   "metadata": {},
   "source": [
    "## [GraphQL](https://docs.fairground.vega.xyz/docs/apis/graphql/)\n",
    "\n",
    "All the data required for above calculations can also be obtained via the GraphQL API. Try going to the [GraphQL playground](https://lb.testnet.vega.xyz/playground) for the testnet and entering the query below (remember to modify the public key to yours) \n",
    "\n",
    "```bash\n",
    "query($pubKey: ID = \"e23f51fa4236ac4c843b56fed310db713055dae5d5ce71b976465295206b11bf\") {        \n",
    "  party(id:$pubKey){\n",
    "    positions {\n",
    "      market {\n",
    "        name,\n",
    "      \tdata {\n",
    "          markPrice\n",
    "        }}\n",
    "      openVolume,\n",
    "      margins {\n",
    "        maintenanceLevel\n",
    "       \tsearchLevel,\n",
    "        initialLevel,\n",
    "        collateralReleaseLevel,\n",
    "      }\n",
    "    },\n",
    "    accounts {\n",
    "      type,\n",
    "      balance,\n",
    "      asset {\n",
    "        name\n",
    "      }, \n",
    "      market {\n",
    "        name\n",
    "      }\n",
    "    }\n",
    "  }\n",
    "}\n",
    "```"
   ]
  }
 ],
 "metadata": {
  "interpreter": {
   "hash": "31f2aee4e71d21fbe5cf8b01ff0e069b9275f58929596ceb00d14d90e3e16cd6"
  },
  "kernelspec": {
   "name": "python3",
   "display_name": "Python 3.8.2 64-bit"
  },
  "language_info": {
   "codemirror_mode": {
    "name": "ipython",
    "version": 3
   },
   "file_extension": ".py",
   "mimetype": "text/x-python",
   "name": "python",
   "nbconvert_exporter": "python",
   "pygments_lexer": "ipython3",
   "version": "3.8.2"
  }
 },
 "nbformat": 4,
 "nbformat_minor": 4
}