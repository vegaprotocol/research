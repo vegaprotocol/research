{
 "cells": [
  {
   "cell_type": "markdown",
   "metadata": {},
   "source": [
    "# Leverage calculations from market data\n",
    "\n",
    "A simple notebook showing leverage calculations based on market data obtined via the API.\n",
    "\n",
    "Resources:\n",
    "- [Testnet](https://console.fairground.wtf/)\n",
    "- [API docs](https://docs.fairground.vega.xyz/docs/apis/)"
   ]
  },
  {
   "cell_type": "markdown",
   "metadata": {},
   "source": [
    "## [gRPC](https://docs.fairground.vega.xyz/docs/apis/grpc/)"
   ]
  },
  {
   "cell_type": "code",
   "execution_count": 1,
   "metadata": {},
   "outputs": [
    {
     "name": "stdout",
     "output_type": "stream",
     "text": [
      "Requirement already satisfied: Vega-API-client in /usr/local/anaconda3/lib/python3.7/site-packages (0.38.0)\n",
      "Requirement already satisfied: googleapis-common-protos in /usr/local/anaconda3/lib/python3.7/site-packages (from Vega-API-client) (1.52.0)\n",
      "Requirement already satisfied: requests in /usr/local/anaconda3/lib/python3.7/site-packages (from Vega-API-client) (2.25.1)\n",
      "Requirement already satisfied: grpcio in /usr/local/anaconda3/lib/python3.7/site-packages (from Vega-API-client) (1.35.0)\n",
      "Requirement already satisfied: protobuf>=3.6.0 in /usr/local/anaconda3/lib/python3.7/site-packages (from googleapis-common-protos->Vega-API-client) (3.14.0)\n",
      "Requirement already satisfied: six>=1.9 in /usr/local/anaconda3/lib/python3.7/site-packages (from protobuf>=3.6.0->googleapis-common-protos->Vega-API-client) (1.14.0)\n",
      "Requirement already satisfied: urllib3<1.27,>=1.21.1 in /usr/local/anaconda3/lib/python3.7/site-packages (from requests->Vega-API-client) (1.25.8)\n",
      "Requirement already satisfied: certifi>=2017.4.17 in /usr/local/anaconda3/lib/python3.7/site-packages (from requests->Vega-API-client) (2019.11.28)\n",
      "Requirement already satisfied: idna<3,>=2.5 in /usr/local/anaconda3/lib/python3.7/site-packages (from requests->Vega-API-client) (2.8)\n",
      "Requirement already satisfied: chardet<5,>=3.0.2 in /usr/local/anaconda3/lib/python3.7/site-packages (from requests->Vega-API-client) (3.0.4)\n",
      "Note: you may need to restart the kernel to use updated packages.\n"
     ]
    }
   ],
   "source": [
    "pip install --upgrade Vega-API-client;"
   ]
  },
  {
   "cell_type": "code",
   "execution_count": 2,
   "metadata": {},
   "outputs": [],
   "source": [
    "import vegaapiclient as vac\n",
    "import math\n",
    "node_url_grpc=\"n06.testnet.vega.xyz:3002\"\n",
    "data_client = vac.VegaTradingDataClient(node_url_grpc)\n",
    "\n",
    "def round_sd(number):\n",
    "    significant_digits = 4\n",
    "    return round(number, significant_digits - math.floor(math.log10(abs(number))) - 1)"
   ]
  },
  {
   "cell_type": "markdown",
   "metadata": {},
   "source": [
    "### Specify public key for the party\n",
    "\n",
    "Specify the your public key in the cell below. It can be found in the [wallet side panel](https://console.fairground.wtf/wallet/) in the Console.\n",
    "\n",
    "![](./resources/pubkey.png)"
   ]
  },
  {
   "cell_type": "code",
   "execution_count": 3,
   "metadata": {},
   "outputs": [],
   "source": [
    "pubkey=\"e23f51fa4236ac4c843b56fed310db713055dae5d5ce71b976465295206b11bf\""
   ]
  },
  {
   "cell_type": "code",
   "execution_count": 4,
   "metadata": {},
   "outputs": [
    {
     "name": "stdout",
     "output_type": "stream",
     "text": [
      "\tmarket: Apple Monthly (30 Jun 2021)\n",
      "\t\teffective position leverage: ~0.1292x\n",
      "\t\tleverage per margin level:\n",
      "\t\t\tmaintenance:         ~117.5x\n",
      "\t\t\tsearch               ~114.7x\n",
      "\t\t\tinitial              ~111.9x\n",
      "\t\t\trelease              ~106.8x\n"
     ]
    }
   ],
   "source": [
    "party_positions = data_client.PositionsByParty(vac.api.trading.PositionsByPartyRequest(party_id=pubkey))\n",
    "if len(party_positions.positions) == 0:\n",
    "    print(\"party with the public key specified has no open positions\")\n",
    "    exit()\n",
    "\n",
    "party_accounts = data_client.PartyAccounts(vac.api.trading.PartyAccountsRequest(party_id=pubkey))\n",
    "\n",
    "for pos in party_positions.positions:\n",
    "    market_name=data_client.MarketByID(vac.api.trading.MarketByIDRequest(market_id=pos.market_id)).market.tradable_instrument.instrument.name\n",
    "    market_data=data_client.MarketDataByID(vac.api.trading.MarketDataByIDRequest(market_id=pos.market_id)).market_data\n",
    "    margin_acc = next(x for x in party_accounts.accounts if x.market_id == pos.market_id )\n",
    "    gen_acc = next(x for x in party_accounts.accounts if x.type == vac.vega.ACCOUNT_TYPE_GENERAL and x.asset==margin_acc.asset)\n",
    "    \n",
    "    notional=pos.open_volume*market_data.mark_price\n",
    "    current_leverage=round_sd(notional/(gen_acc.balance+margin_acc.balance))\n",
    "\n",
    "\n",
    "    margin_levels=data_client.MarginLevels(vac.api.trading.MarginLevelsRequest(party_id=pubkey, market_id=pos.market_id)).margin_levels\n",
    "\n",
    "    print(\"\\tmarket: {name}\".format(name=market_name))\n",
    "    print(\"\\t\\teffective position leverage: ~{lev}x\".format(lev=current_leverage))\n",
    "    print(\"\\t\\tleverage per margin level:\")\n",
    "    print(\"\\t\\t\\t{:<20} ~{}x\".format(\"maintenance:\",round_sd(notional/margin_levels[0].maintenance_margin)))\n",
    "    print(\"\\t\\t\\t{:<20} ~{}x\".format(\"search\",round_sd(notional/margin_levels[0].search_level)))\n",
    "    print(\"\\t\\t\\t{:<20} ~{}x\".format(\"initial\",round_sd(notional/margin_levels[0].initial_margin)))\n",
    "    print(\"\\t\\t\\t{:<20} ~{}x\".format(\"release\",round_sd(notional/margin_levels[0].collateral_release_level)))\n",
    "\n"
   ]
  },
  {
   "cell_type": "markdown",
   "metadata": {},
   "source": [
    "## [GraphQL](https://docs.fairground.vega.xyz/docs/apis/graphql/)\n",
    "\n",
    "All the data required for above calculations can also be obtained via the GraphQL API. Try going to the [GraphQL playground](https://lb.testnet.vega.xyz/playground) for the testnet and entering the query below (remember to modify the public key to yours) \n",
    "\n",
    "```bash\n",
    "query($pubKey: ID = \"e23f51fa4236ac4c843b56fed310db713055dae5d5ce71b976465295206b11bf\") {        \n",
    "  party(id:$pubKey){\n",
    "    positions {\n",
    "      market {\n",
    "        name,\n",
    "      \tdata {\n",
    "          markPrice\n",
    "        }}\n",
    "      openVolume,\n",
    "      margins {\n",
    "        maintenanceLevel\n",
    "       \tsearchLevel,\n",
    "        initialLevel,\n",
    "        collateralReleaseLevel,\n",
    "      }\n",
    "    },\n",
    "    accounts {\n",
    "      type,\n",
    "      balance,\n",
    "      asset {\n",
    "        name\n",
    "      }, \n",
    "      market {\n",
    "        name\n",
    "      }\n",
    "    }\n",
    "  }\n",
    "}\n",
    "```"
   ]
  },
  {
   "cell_type": "code",
   "execution_count": null,
   "metadata": {},
   "outputs": [],
   "source": []
  }
 ],
 "metadata": {
  "interpreter": {
   "hash": "e134e05457d34029b6460cd73bbf1ed73f339b5b6d98c95be70b69eba114fe95"
  },
  "kernelspec": {
   "display_name": "Python 3",
   "language": "python",
   "name": "python3"
  },
  "language_info": {
   "codemirror_mode": {
    "name": "ipython",
    "version": 3
   },
   "file_extension": ".py",
   "mimetype": "text/x-python",
   "name": "python",
   "nbconvert_exporter": "python",
   "pygments_lexer": "ipython3",
   "version": "3.7.6"
  }
 },
 "nbformat": 4,
 "nbformat_minor": 4
}
