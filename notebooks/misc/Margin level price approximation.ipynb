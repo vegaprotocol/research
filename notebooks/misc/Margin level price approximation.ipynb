{
 "cells": [
  {
   "cell_type": "markdown",
   "metadata": {},
   "source": [
    "# Margin-implied price level approximation\n",
    "\n",
    "## Price level approximation\n",
    "\n",
    "Assumptions\n",
    "  - Assume risk factors stay constant (which is the case for the log-normal model anyway).\n",
    "  - Just focus on open position for now (ignore orders - these get cancelled upon closeout anyway and party's margin gets revaluated again to see if margin > maintenance in which case position doesn't get closed out).\n",
    "\n",
    "Need to work out price `S` so that:\n",
    "\n",
    "$$ \\text{margin_level}(S)=\\text{account_balance} + \\text{P&L}(S) $$\n",
    "\n",
    "where for futures:\n",
    "\n",
    "$$ \\text{margin_maintenance}(S)= max(|\\text{open_volume}| * \\text{slippage_per_unit}, 0) + |\\text{open_volume}| * \\text{risk_factor} * S $$\n",
    "and\n",
    "\n",
    "$$ \\text{P&L}(S)= \\text{open_volume}*[S-S_{\\text{current}}] $$\n",
    "\n",
    "### First approximation\n",
    "\n",
    "Assumptions:\n",
    "   - Assume margin levels don't get affected by price moves\n",
    "\n",
    "As per assumptions above just calculate the P&L loss that'd bring margin account balance below **current** maintenance margin so we can approximate price levels associated with breaching search and maintenance margins as:\n",
    "\n",
    "$$ S^*_\\text{search} =  \\frac{\\text{margin_search}(S_\\text{current}) - \\text{margin_account_balance}}{\\text{open_volume}} + S_\\text{current}  $$\n",
    "\n",
    "and \n",
    "\n",
    "$$ S^*_\\text{liquidation} =  \\frac{\\text{margin_maintenance}(S_\\text{current}) - \\text{margin_account_balance}-\\text{general_account_balance}}{\\text{open_volume}} + S_\\text{current}  $$\n",
    "\n",
    "\n",
    "### Second approximation\n",
    "\n",
    "Assumptions:\n",
    "  - Assume slippage stays constant from when the position opens.\n",
    "\n",
    "Let:\n",
    "\n",
    "$$ c_1 = max(|\\text{open_volume}| * \\text{slippage_per_unit}, 0) $$\n",
    "$$ c_2 = |\\text{open_volume}| * \\text{risk_factor} $$\n",
    "\n",
    "and $c_{level}$ be the scaling for a particular risk level, hence we get:\n",
    "\n",
    "$$S = \\frac{\\text{account_balance}-\\text{open_volume}*S_\\text{current}-c_{level}*c_1}{c_{level}*c_2-\\text{open_volume}}$$"
   ]
  },
  {
   "cell_type": "markdown",
   "metadata": {},
   "source": [
    "## Implementation"
   ]
  },
  {
   "cell_type": "code",
   "execution_count": null,
   "metadata": {},
   "outputs": [],
   "source": [
    "import vegaapiclient as vac\n",
    "from utils.risk_models import LogNormal\n",
    "from utils.helpers import *\n",
    "\n",
    "node_url_grpc=\"n06.testnet.vega.xyz:3007\"\n",
    "data_client = vac.VegaTradingDataClient(node_url_grpc)"
   ]
  },
  {
   "cell_type": "markdown",
   "metadata": {},
   "source": [
    "### Specify public key for the party.\n",
    "Specify the your public key in the cell below. It can be found in the wallet side panel in the Console."
   ]
  },
  {
   "cell_type": "code",
   "execution_count": null,
   "metadata": {},
   "outputs": [],
   "source": [
    "pubkey=\"73ce9e7fbda4e8ae4dec66e9786c17fd7a31a32a616b3287615b421877e3a8a6\""
   ]
  },
  {
   "cell_type": "markdown",
   "metadata": {},
   "source": [
    "### Get party data"
   ]
  },
  {
   "cell_type": "code",
   "execution_count": null,
   "metadata": {},
   "outputs": [],
   "source": [
    "party_positions = data_client.PositionsByParty(vac.data_node.api.v1.trading_data.PositionsByPartyRequest(party_id=pubkey))\n",
    "if len(party_positions.positions) == 0:\n",
    "    print(\"party with the public key specified has no open positions\")\n",
    "    quit(keep_kernel=True)\n",
    "party_accounts = data_client.PartyAccounts(vac.data_node.api.v1.trading_data.PartyAccountsRequest(party_id=pubkey))\n",
    "\n",
    "for pos in party_positions.positions:\n",
    "    market=data_client.MarketByID(vac.data_node.api.v1.trading_data.MarketByIDRequest(market_id=pos.market_id)).market\n",
    "    market_name=market.tradable_instrument.instrument.name\n",
    "    market_data=data_client.MarketDataByID(vac.data_node.api.v1.trading_data.MarketDataByIDRequest(market_id=pos.market_id)).market_data\n",
    "    margin_levels=data_client.MarginLevels(vac.data_node.api.v1.trading_data.MarginLevelsRequest(party_id=pubkey, market_id=pos.market_id)).margin_levels\n",
    "  \n",
    "    margin_acc = next(x for x in party_accounts.accounts if x.market_id == pos.market_id )\n",
    "    gen_acc = next(x for x in party_accounts.accounts if x.type == vac.vega.vega.ACCOUNT_TYPE_GENERAL and x.asset==margin_acc.asset)\n",
    "    \n",
    "    asset_dp = data_client.AssetByID(vac.data_node.api.v1.trading_data.AssetByIDRequest(id=gen_acc.asset)).asset.details.decimals\n",
    "    market_dp = market.decimal_places\n",
    "    \n",
    "    mar_acc_bal = float(margin_acc.balance)*10**(-asset_dp)\n",
    "    gen_acc_bal = float(gen_acc.balance)*10**(-asset_dp)\n",
    "    \n",
    "    mar_mant = float(margin_levels[0].maintenance_margin)*10**(-market_dp)\n",
    "    mar_srch = float(margin_levels[0].search_level)*10**(-market_dp)\n",
    "    mar_init = float(margin_levels[0].initial_margin)*10**(-market_dp)\n",
    "    mar_rel = float(margin_levels[0].collateral_release_level)*10**(-market_dp)\n",
    "    \n",
    "    mark_price=float(market_data.mark_price)*10**(-market_dp)\n",
    "    \n",
    "\n",
    "    \n",
    "    search_price_first_approx = (mar_srch - mar_acc_bal)/pos.open_volume + mark_price\n",
    "    liquidation_price_first_approx = (mar_mant - mar_acc_bal - gen_acc_bal)/pos.open_volume + mark_price\n",
    "\n",
    "    p=market.tradable_instrument.log_normal_risk_model\n",
    "    risk_model = LogNormal(mu=p.params.mu,sigma=p.params.sigma, lambd=p.risk_aversion_parameter, tau=p.tau)\n",
    "    risk_factor = risk_model.RiskFactorLong() if pos.open_volume >= 0 else risk_model.RiskFactorShort()\n",
    "    scaling_factors = market.tradable_instrument.margin_calculator.scaling_factors\n",
    "    \n",
    "\n",
    "    market_depth = data_client.MarketDepth(vac.data_node.api.v1.trading_data.MarketDepthRequest(market_id=market.id, max_depth=abs(pos.open_volume)))\n",
    "    slippage_per_unit = calculate_slippage_per_unit(mark_price,market_depth, pos.open_volume, market_dp)\n",
    "\n",
    "\n",
    "    c_1 = max(abs(pos.open_volume)*slippage_per_unit,0)\n",
    "    c_2 = abs(pos.open_volume) * risk_factor\n",
    "\n",
    "    search_price_second_approx = (mar_acc_bal -  pos.open_volume*mark_price-scaling_factors.search_level *c_1 )/(scaling_factors.search_level*c_2-pos.open_volume)\n",
    "    liquidation_price_second_approx = (mar_acc_bal + gen_acc_bal - pos.open_volume*mark_price-c_1 )/(c_2-pos.open_volume)\n",
    "\n",
    "    \n",
    "    print(\"\\tmarket: {name}\".format(name=market_name)) \n",
    "    print(\"\\n\")\n",
    "    print(\"\\t\\t{:<29} {}\".format(\"party position:\",pos.open_volume))\n",
    "    print(\"\\t\\t{:<29} {}\".format(\"margin account:\",round_sd(mar_acc_bal)))\n",
    "    print(\"\\t\\t{:<29} {}\".format(\"general account:\",round_sd(gen_acc_bal)))\n",
    "    print(\"\\t\\t{:<29} {}\".format(\"mark price:\",round_sd(mark_price)))\n",
    "    print(\"\\n\")\n",
    "    print(\"\\t\\tmargin levels:\")\n",
    "    print(\"\\t\\t\\t{:<20} ~{}\".format(\"search:\",round_sd(mar_srch)))\n",
    "    print(\"\\t\\t\\t{:<20} ~{}\".format(\"maintenance:\",round_sd(mar_mant)))\n",
    "    print(\"\\n\")\n",
    "    print(\"\\t\\tfirst approximation price:\")\n",
    "    print(\"\\t\\t\\t{:<20} ~{}\".format(\"search:\",max(0,round_sd(search_price_first_approx))))\n",
    "    print(\"\\t\\t\\t{:<20} ~{}\".format(\"liquidation:\",max(0,round_sd(liquidation_price_first_approx))))\n",
    "    print(\"\\t\\tsecond approximation price:\")\n",
    "    print(\"\\t\\t\\t{:<20} ~{}\".format(\"search:\",max(0,round_sd(search_price_second_approx))))\n",
    "    print(\"\\t\\t\\t{:<20} ~{}\".format(\"liquidation:\",max(0,round_sd(liquidation_price_second_approx))))\n",
    "    print(\"\\n\\n\")\n",
    "    "
   ]
  },
  {
   "cell_type": "markdown",
   "metadata": {},
   "source": [
    " "
   ]
  },
  {
   "cell_type": "markdown",
   "metadata": {},
   "source": [
    "## Appendix: Maintenance margin calculation\n",
    "\n",
    "```maintenance_margin = max ( maintenance_margin_long, maintenance_margin_short)```\n",
    "\n",
    "riskiest long = max( open_volume + buy_orders , 0 )\n",
    "\n",
    "riskiest short = min( open_volume + sell_orders, 0 )\n",
    "\n",
    "### `maintenance_margin_long`\n",
    "(calculation for `maintenance_margin_short` is equivalent, see [spec](https://github.com/vegaprotocol/specs-internal/blob/master/protocol/0019-margin-calculator.md) for details)\n",
    "\n",
    "```maintenance_margin_long_open_position = max(slippage_volume * slippage_per_unit, 0) + slippage_volume * [ quantitative_model.risk_factors_long ] . [ Product.value(market_observable) ]```,\n",
    "\n",
    "```maintenance_margin_long_open_orders = buy_orders * [ quantitative_model.risk_factors_long ] . [ Product.value(market_observable) ]  ```,\n",
    "\n",
    "where\n",
    "\n",
    "```slippage_volume =  max( open_volume, 0 ) ```,\n",
    "\n",
    "and\n",
    "\n",
    "if ```open_volume > 0```  then \n",
    "\n",
    "```slippage_per_unit =  Product.value(market_observable) - Product.value(exit_price) ```, \n",
    "\n",
    "else ```slippage_per_unit = 0```."
   ]
  }
 ],
 "metadata": {
  "interpreter": {
   "hash": "3067ead486e059ec00ffe7555bdb889e6e264a24dc711bf108106cc7baee8d5d"
  },
  "kernelspec": {
   "display_name": "Python 3 (ipykernel)",
   "language": "python",
   "name": "python3"
  },
  "language_info": {
   "codemirror_mode": {
    "name": "ipython",
    "version": 3
   },
   "file_extension": ".py",
   "mimetype": "text/x-python",
   "name": "python",
   "nbconvert_exporter": "python",
   "pygments_lexer": "ipython3",
   "version": "3.11.5"
  }
 },
 "nbformat": 4,
 "nbformat_minor": 2
}
