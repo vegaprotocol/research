{
 "cells": [
  {
   "cell_type": "markdown",
   "metadata": {},
   "source": [
    "# Margin-implied price level approximation\n",
    "\n",
    "## Price level approximation\n",
    "\n",
    "Assumptions\n",
    "  - Assume risk factors stay constant (which is the case for the log-normal model anyway).\n",
    "  - Just focus on open position for now (ignore orders - these get cancelled upon closeout anyway and party's margin gets revaluated again to see if margin > maintenance in which case position doesn't get closed out).\n",
    "\n",
    "Need to work out price `S` so that:\n",
    "\n",
    "$$ \\text{margin_level}(S)=\\text{account_balance} + \\text{P&L}(S) $$\n",
    "\n",
    "where for futures:\n",
    "\n",
    "$$ \\text{margin_maintenance}(S)= max(|\\text{open_volume}| * \\text{slippage_per_unit}, 0) + |\\text{open_volume}| * \\text{risk_factor} * S $$\n",
    "and\n",
    "\n",
    "$$ \\text{P&L}(S)= \\text{open_volume}*[S-S_{\\text{current}}] $$\n",
    "\n",
    "### First approximation\n",
    "\n",
    "Assumptions:\n",
    "   - Assume margin levels don't get affected by price moves\n",
    "\n",
    "As per assumptions above just calculate the P&L loss that'd bring margin account balance below **current** maintenance margin so:\n",
    "\n",
    "\n",
    "### Second approximation\n",
    "\n",
    "Assumptions:\n",
    "  - Assume slippage stays constant from when the position opens.\n",
    "\n",
    "Let:\n",
    "\n",
    "$$ c_1 = max(|\\text{open_volume}| * \\text{slippage_per_unit}, 0) $$\n",
    "$$ c_2 = |\\text{open_volume}| * \\text{risk_factor} $$\n",
    "\n",
    "and $c_{level}$ be the scaling for a particular risk level, hence we get:\n",
    "\n",
    "$$S = \\frac{\\text{account_balance}-\\text{open_volume}*S_\\text{current}-c_{level}*c_1}{c_{level}*c_2-\\text{open_volume}}$$\n",
    "\n",
    "### Third approximation\n",
    "\n",
    "Same as above, but use live slippage (NOTE: this is just to see how volatile this metric is in a typical market, in reallity some max slippage observed over a sliding time window would likely be better as in case of a sudden market moves spreads are likely to widen thus increasing the slippage). "
   ]
  },
  {
   "cell_type": "markdown",
   "metadata": {},
   "source": [
    "## Implementation\n",
    "\n",
    "### First approximation"
   ]
  },
  {
   "cell_type": "code",
   "execution_count": 3,
   "metadata": {},
   "outputs": [
    {
     "ename": "AttributeError",
     "evalue": "'MarketMock' object has no attribute 'risk_factor_sell'",
     "output_type": "error",
     "traceback": [
      "\u001b[0;31m---------------------------------------------------------------------------\u001b[0m",
      "\u001b[0;31mAttributeError\u001b[0m                            Traceback (most recent call last)",
      "\u001b[0;32m/var/folders/x5/9ppxhwqx2rs75tp8562yhlxc0000gn/T/ipykernel_63612/883141054.py\u001b[0m in \u001b[0;36m<module>\u001b[0;34m\u001b[0m\n\u001b[1;32m      6\u001b[0m \u001b[0mparty1\u001b[0m \u001b[0;34m=\u001b[0m \u001b[0mParty\u001b[0m\u001b[0;34m(\u001b[0m\u001b[0;34m\"party1\"\u001b[0m\u001b[0;34m,\u001b[0m \u001b[0mmarket\u001b[0m\u001b[0;34m,\u001b[0m \u001b[0minitial_deposit\u001b[0m\u001b[0;34m)\u001b[0m\u001b[0;34m\u001b[0m\u001b[0;34m\u001b[0m\u001b[0m\n\u001b[1;32m      7\u001b[0m \u001b[0mposition\u001b[0m\u001b[0;34m=\u001b[0m\u001b[0;34m-\u001b[0m\u001b[0;36m10\u001b[0m\u001b[0;34m\u001b[0m\u001b[0;34m\u001b[0m\u001b[0m\n\u001b[0;32m----> 8\u001b[0;31m \u001b[0;32mif\u001b[0m \u001b[0;32mnot\u001b[0m \u001b[0mparty1\u001b[0m\u001b[0;34m.\u001b[0m\u001b[0mtry_open_position\u001b[0m\u001b[0;34m(\u001b[0m\u001b[0mposition\u001b[0m\u001b[0;34m)\u001b[0m\u001b[0;34m:\u001b[0m\u001b[0;34m\u001b[0m\u001b[0;34m\u001b[0m\u001b[0m\n\u001b[0m\u001b[1;32m      9\u001b[0m     \u001b[0mprint\u001b[0m\u001b[0;34m(\u001b[0m\u001b[0;34m\"Insufficient funds to open a position\"\u001b[0m\u001b[0;34m)\u001b[0m\u001b[0;34m\u001b[0m\u001b[0;34m\u001b[0m\u001b[0m\n\u001b[1;32m     10\u001b[0m     \u001b[0mexit\u001b[0m\u001b[0;34m(\u001b[0m\u001b[0;34m)\u001b[0m\u001b[0;34m\u001b[0m\u001b[0;34m\u001b[0m\u001b[0m\n",
      "\u001b[0;32m~/Repos/sim/sim/mechanism/margin_calculations.py\u001b[0m in \u001b[0;36mtry_open_position\u001b[0;34m(self, position)\u001b[0m\n\u001b[1;32m    175\u001b[0m \u001b[0;34m\u001b[0m\u001b[0m\n\u001b[1;32m    176\u001b[0m     \u001b[0;32mdef\u001b[0m \u001b[0mtry_open_position\u001b[0m\u001b[0;34m(\u001b[0m\u001b[0mself\u001b[0m\u001b[0;34m,\u001b[0m \u001b[0mposition\u001b[0m\u001b[0;34m:\u001b[0m \u001b[0mnp\u001b[0m\u001b[0;34m.\u001b[0m\u001b[0mint64\u001b[0m\u001b[0;34m)\u001b[0m \u001b[0;34m->\u001b[0m \u001b[0mbool\u001b[0m\u001b[0;34m:\u001b[0m\u001b[0;34m\u001b[0m\u001b[0;34m\u001b[0m\u001b[0m\n\u001b[0;32m--> 177\u001b[0;31m         \u001b[0mlvls\u001b[0m \u001b[0;34m=\u001b[0m \u001b[0mMarginCalculator\u001b[0m\u001b[0;34m.\u001b[0m\u001b[0mcalculate_margin_levels\u001b[0m\u001b[0;34m(\u001b[0m\u001b[0mself\u001b[0m\u001b[0;34m.\u001b[0m\u001b[0m_market\u001b[0m\u001b[0;34m,\u001b[0m \u001b[0mposition\u001b[0m\u001b[0;34m,\u001b[0m \u001b[0mself\u001b[0m\u001b[0;34m.\u001b[0m\u001b[0m_buy_orders_volume\u001b[0m\u001b[0;34m,\u001b[0m \u001b[0mself\u001b[0m\u001b[0;34m.\u001b[0m\u001b[0m_sell_orders_volume\u001b[0m\u001b[0;34m)\u001b[0m\u001b[0;34m\u001b[0m\u001b[0;34m\u001b[0m\u001b[0m\n\u001b[0m\u001b[1;32m    178\u001b[0m         \u001b[0;32mif\u001b[0m \u001b[0mself\u001b[0m\u001b[0;34m.\u001b[0m\u001b[0m_accounts\u001b[0m\u001b[0;34m.\u001b[0m\u001b[0mtry_allocate_margin\u001b[0m\u001b[0;34m(\u001b[0m\u001b[0mlvls\u001b[0m\u001b[0;34m.\u001b[0m\u001b[0minitial\u001b[0m\u001b[0;34m(\u001b[0m\u001b[0;34m)\u001b[0m\u001b[0;34m)\u001b[0m\u001b[0;34m:\u001b[0m\u001b[0;34m\u001b[0m\u001b[0;34m\u001b[0m\u001b[0m\n\u001b[1;32m    179\u001b[0m             \u001b[0mself\u001b[0m\u001b[0;34m.\u001b[0m\u001b[0m_position\u001b[0m \u001b[0;34m=\u001b[0m \u001b[0mposition\u001b[0m\u001b[0;34m\u001b[0m\u001b[0;34m\u001b[0m\u001b[0m\n",
      "\u001b[0;32m~/Repos/sim/sim/mechanism/margin_calculations.py\u001b[0m in \u001b[0;36mcalculate_margin_levels\u001b[0;34m(market, open_volume, buy_orders, sell_orders)\u001b[0m\n\u001b[1;32m    245\u001b[0m         \u001b[0;32mif\u001b[0m \u001b[0mriskiest_short\u001b[0m \u001b[0;34m<\u001b[0m \u001b[0;36m0\u001b[0m\u001b[0;34m:\u001b[0m\u001b[0;34m\u001b[0m\u001b[0;34m\u001b[0m\u001b[0m\n\u001b[1;32m    246\u001b[0m             \u001b[0mmaintenance_margin_short\u001b[0m \u001b[0;34m+=\u001b[0m \u001b[0mmargin_open_position\u001b[0m \u001b[0;32mif\u001b[0m \u001b[0mopen_volume\u001b[0m \u001b[0;34m<\u001b[0m \u001b[0;36m0\u001b[0m \u001b[0;32melse\u001b[0m \u001b[0;36m0\u001b[0m\u001b[0;34m\u001b[0m\u001b[0;34m\u001b[0m\u001b[0m\n\u001b[0;32m--> 247\u001b[0;31m             \u001b[0mmaintenance_margin_short\u001b[0m \u001b[0;34m+=\u001b[0m \u001b[0msell_orders\u001b[0m \u001b[0;34m*\u001b[0m \u001b[0mmarket\u001b[0m\u001b[0;34m.\u001b[0m\u001b[0mrisk_factor_sell\u001b[0m\u001b[0;34m(\u001b[0m\u001b[0;34m)\u001b[0m \u001b[0;34m*\u001b[0m \u001b[0mmark_price\u001b[0m\u001b[0;34m\u001b[0m\u001b[0;34m\u001b[0m\u001b[0m\n\u001b[0m\u001b[1;32m    248\u001b[0m         \u001b[0mmaintenance_level\u001b[0m \u001b[0;34m=\u001b[0m \u001b[0mmax\u001b[0m\u001b[0;34m(\u001b[0m\u001b[0mmaintenance_margin_long\u001b[0m\u001b[0;34m,\u001b[0m \u001b[0mmaintenance_margin_short\u001b[0m\u001b[0;34m)\u001b[0m\u001b[0;34m\u001b[0m\u001b[0;34m\u001b[0m\u001b[0m\n\u001b[1;32m    249\u001b[0m         \u001b[0;31m# TODO: Retrun both short and long margin here, have the other component calculate levels\u001b[0m\u001b[0;34m\u001b[0m\u001b[0;34m\u001b[0m\u001b[0;34m\u001b[0m\u001b[0m\n",
      "\u001b[0;31mAttributeError\u001b[0m: 'MarketMock' object has no attribute 'risk_factor_sell'"
     ]
    }
   ],
   "source": []
  },
  {
   "cell_type": "markdown",
   "metadata": {},
   "source": [
    "## Appendix: Maintenance margin calculation\n",
    "\n",
    "```maintenance_margin = max ( maintenance_margin_long, maintenance_margin_short)```\n",
    "\n",
    "riskiest long = max( open_volume + buy_orders , 0 )\n",
    "\n",
    "riskiest short = min( open_volume + sell_orders, 0 )\n",
    "\n",
    "### `maintenance_margin_long`\n",
    "(calculation for `maintenance_margin_short` is equivalent, see [spec](https://github.com/vegaprotocol/specs-internal/blob/master/protocol/0019-margin-calculator.md) for details)\n",
    "\n",
    "```maintenance_margin_long_open_position = max(slippage_volume * slippage_per_unit, 0) + slippage_volume * [ quantitative_model.risk_factors_long ] . [ Product.value(market_observable) ]```,\n",
    "\n",
    "```maintenance_margin_long_open_orders = buy_orders * [ quantitative_model.risk_factors_long ] . [ Product.value(market_observable) ]  ```,\n",
    "\n",
    "where\n",
    "\n",
    "```slippage_volume =  max( open_volume, 0 ) ```,\n",
    "\n",
    "and\n",
    "\n",
    "if ```open_volume > 0```  then \n",
    "\n",
    "```slippage_per_unit =  Product.value(market_observable) - Product.value(exit_price) ```, \n",
    "\n",
    "else ```slippage_per_unit = 0```."
   ]
  },
  {
   "cell_type": "code",
   "execution_count": null,
   "metadata": {},
   "outputs": [],
   "source": [
    "import sys; sys.path.append('../')\n",
    "from sim.mechanism.margin_calculations import *\n",
    "\n",
    "market = MarketMock(mark_price=100, slippage=-10, factor_long=0.1, factor_short=0.2, margin_scalings=MarginScalings(1.1,1.5,2.0))\n",
    "initial_deposit=1000\n",
    "party1 = Party(\"party1\", market, initial_deposit)\n",
    "position=-10\n",
    "if not party1.try_open_position(position):\n",
    "    print(\"Insufficient funds to open a position\")\n",
    "    exit()\n",
    "\n",
    "print(party1.margin_levels())\n",
    "print(party1.accounts())\n",
    "print(party1.price_levels())\n",
    "\n",
    "new_mark_price=134\n",
    "market.set_mark_price(167)\n",
    "print(\"Mark price updated to \", new_mark_price, '\\n')\n",
    "party1.update()\n",
    "print(party1.accounts())\n",
    "print(party1.margin_levels())\n",
    "print(party1.price_levels())"
   ]
  }
 ],
 "metadata": {
  "interpreter": {
   "hash": "e134e05457d34029b6460cd73bbf1ed73f339b5b6d98c95be70b69eba114fe95"
  },
  "kernelspec": {
   "display_name": "Python 3 (ipykernel)",
   "language": "python",
   "name": "python3"
  },
  "language_info": {
   "codemirror_mode": {
    "name": "ipython",
    "version": 3
   },
   "file_extension": ".py",
   "mimetype": "text/x-python",
   "name": "python",
   "nbconvert_exporter": "python",
   "pygments_lexer": "ipython3",
   "version": "3.7.6"
  }
 },
 "nbformat": 4,
 "nbformat_minor": 2
}
