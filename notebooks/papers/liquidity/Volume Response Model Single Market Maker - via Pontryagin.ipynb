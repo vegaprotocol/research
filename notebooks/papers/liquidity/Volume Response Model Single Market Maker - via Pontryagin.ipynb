{
 "cells": [
  {
   "cell_type": "markdown",
   "metadata": {},
   "source": [
    "# Volume Response Model Single Market Maker - via Pontryagin\n",
    "\n",
    "This notebook corresponds to section 4 (**Agent based models**) of \"Market Based Mechanisms for Incentivising Exchange Liquidity Provision\" available [here](https://vega.xyz/papers/liquidity.pdf). It models a single market maker and solves the resulting game by an iterative scheme based on the Pontryagin optimality principle.\n",
    "\n",
    "## Problem formulation\n",
    "\n",
    "$$ dX_t = b\\left(\\mathbf{X},\\mathbf{\\theta}\\right)dt$$\n",
    "where\n",
    "\n",
    "$$\\mathbf{X}_t = \\left[ V_t, f_t, S_t \\right], \\quad  \\mathbf{\\theta}_t = \\left[ \\alpha^f_t, \\alpha^S_t \\right] $$\n",
    "\n",
    "and\n",
    "$$ dV_t = \\kappa_D \\left( \\text{LD}_F^{\\ast} - \\frac{V_t}{\\kappa_S S_t} \\right)V_t dt - \\kappa_f\\frac{1}{1 + \\exp(-(f_t-\\text{FP}^{\\text{mid}}))}V_t dt, \\quad V_0 = v_0$$ \n",
    "\n",
    "where:\n",
    "\n",
    "* $V_t \\text{ denotes trading volume at time } t,$\n",
    "* $S_t \\text{ denotes stake level at time } t,$\n",
    "* $f_t \\text{ denotes fee level at time } t,$\n",
    "* $LD_F^{\\ast} \\text{ denotes liquidity demand mean-reversion level and corresponds to parameter } \\verb|liq_dem_F_star| \\text{ in the code}$,\n",
    "* $\\text{FP}^{\\text{mid}} = \\verb|fee_param_mid| $\n",
    "\n",
    "\n",
    "\n",
    "\n",
    "$$ $$\n",
    "\n",
    "$$b\\left(\\mathbf{X},\\mathbf{\\theta}\\right) = \\begin{bmatrix}\n",
    "\\kappa_D \\left( \\text{LD}_F^{\\ast} - \\frac{V}{\\kappa_S S} \\right)V - \\kappa_f\\frac{1}{1 + \\exp(-(f_t-\\text{FP}^{\\text{mid}}))}V \\\\\n",
    "\\alpha^f \\\\\n",
    "\\alpha^S \\\\\n",
    "\\end{bmatrix}$$\n",
    "\n",
    "Maximise: \n",
    "$$ J\\left(\\alpha^f, \\alpha^S \\right) = \\int_0^T F\\left(\\mathbf{X}_t, \\mathbf{\\theta}_t \\right) dt$$\n",
    "where\n",
    "$$F\\left(\\mathbf{X}_t, \\mathbf{\\theta}_t \\right) := \\frac{1}{1 + \\exp(-(f_t-\\text{FP}^{\\text{mid}}))} V_t - \\gamma S_t-\\frac{\\delta_f}{2}(\\alpha_t^f)^2-\\frac{\\delta_S}{2}(\\alpha_t^S)^2$$\n",
    "\n",
    "Let:\n",
    "\n",
    "$$H(\\mathbf{X}_t, \\mathbf{\\theta}_t, p) = b\\left(\\mathbf{X}_t,\\mathbf{\\theta}_t\\right) \\cdot p + F\\left(\\mathbf{X}_t, \\mathbf{\\theta}_t \\right)$$"
   ]
  },
  {
   "cell_type": "code",
   "execution_count": 1,
   "metadata": {},
   "outputs": [],
   "source": [
    "import math, sys \n",
    "import numpy as np\n",
    "\n",
    "from mpl_toolkits.mplot3d import Axes3D\n",
    "import matplotlib.pyplot as plt\n",
    "from matplotlib import cm\n",
    "from os import path\n",
    "count = 0\n",
    "\n",
    "from matplotlib.backends.backend_pdf import PdfPages"
   ]
  },
  {
   "cell_type": "code",
   "execution_count": 2,
   "metadata": {},
   "outputs": [
    {
     "data": {
      "image/png": "[encoded data removed]",
      "text/plain": [
       "<Figure size 432x288 with 2 Axes>"
      ]
     },
     "metadata": {
      "needs_background": "light"
     },
     "output_type": "display_data"
    },
    {
     "name": "stdout",
     "output_type": "stream",
     "text": [
      "Gain is 8.393902\n",
      "[ 0.5         0.          2.50000001 -0.05      ]\n",
      "[0.99999994 0.99999994]\n"
     ]
    }
   ],
   "source": [
    "# Parameter for approximating partial derivatives\n",
    "fd_delta = 1e-7\n",
    "\n",
    "# Fix time discretization\n",
    "T = 2.0\n",
    "N_T = 200\n",
    "delta_t = T / (N_T-1)\n",
    "\n",
    "kappa_D = 1.0\n",
    "\n",
    "kappa_f = 1.0\n",
    "kappa_S = 1.0\n",
    "\n",
    "gamma = 0.05; # cost of capital\n",
    "delta_f = 1e-6 # penalty for fee change\n",
    "delta_S = 1e-16 # penalty for stake change\n",
    "\n",
    "\n",
    "initial_volume = 10\n",
    "initial_stake = 1.0\n",
    "fee_param_mid = 5.0\n",
    "initial_fee = 5.0\n",
    "liq_dem_F_star = 1.5\n",
    "\n",
    "\n",
    "# 0 is volume\n",
    "# 1 is log of liquidity demand\n",
    "# 2 is fee\n",
    "# 3 is stake\n",
    "x_vals = np.zeros([4,N_T+1])\n",
    "x_vals[0,0] = initial_volume\n",
    "x_vals[1,0] = 0\n",
    "x_vals[2,0] = initial_fee\n",
    "x_vals[3,0] = initial_stake\n",
    "\n",
    "# thetas[0,:] controls fees, thetas[1,:] controls the stake\n",
    "thetas = np.zeros([2,N_T+1])\n",
    "\n",
    "def fee_param_logistic(f):\n",
    "    return 1.0/(1.0+np.exp(-(f-fee_param_mid)))\n",
    "\n",
    "\n",
    "def drift_forward(x, theta):\n",
    "    V = x[0]; f = x[2]; S = x[3]; alpha_f = theta[0]; alpha_S = theta[1]\n",
    "    fee = fee_param_logistic(f)\n",
    "    #fee = 0.01\n",
    "    \n",
    "    b = np.zeros(4)\n",
    "    \n",
    "    b[0] = kappa_D * (liq_dem_F_star - V / (kappa_S * S)) * V -  kappa_f * fee * V \n",
    "    b[1] = 0 \n",
    "    b[2] = alpha_f  \n",
    "    b[3] = alpha_S    \n",
    "    return b\n",
    "\n",
    "\n",
    "def running_gain(x, theta):\n",
    "    f = x[2]; V = x[0]; stake = x[3]; alpha_f = theta[0]; alpha_s = theta[1]\n",
    "    fee = fee_param_logistic(f)\n",
    "    gain = fee * V - gamma*stake - 0.5*delta_f*alpha_f**2 - 0.5*delta_S*alpha_s**2\n",
    "    return gain \n",
    "\n",
    "def hamiltonian(x,p,theta):\n",
    "    return np.dot(drift_forward(x,theta),p) + running_gain(x,theta)\n",
    "\n",
    "def grad_in_x_of_hamiltonian(x,p,theta):\n",
    "    dim = np.size(x)\n",
    "    grad = np.zeros(dim)\n",
    "    for i in range(0,dim):\n",
    "        x_plus_delta = np.copy(x); x_plus_delta[i] = x[i] + fd_delta\n",
    "        H_plus = hamiltonian(x_plus_delta,p,theta)\n",
    "        #print(H_plus)\n",
    "        #H_minus = hamiltonian(x_minus_delta,p,theta)\n",
    "        H = hamiltonian(x,p,theta)\n",
    "        #print(H_minus)\n",
    "        grad[i] = (H_plus - H)/fd_delta\n",
    "    return grad\n",
    "\n",
    "def grad_in_theta_of_hamiltonian(x,p,theta):\n",
    "    dim = np.size(theta)\n",
    "    grad = np.zeros(dim)\n",
    "    for i in range(0,dim):\n",
    "        theta_plus_delta = np.copy(theta); theta_plus_delta[i] = theta[i] + fd_delta\n",
    "        theta_minus_delta = np.copy(theta); theta_minus_delta[i] = theta[i] - fd_delta\n",
    "        H_plus = hamiltonian(x,p,theta_plus_delta)\n",
    "        H_minus = hamiltonian(x,p,theta_minus_delta)\n",
    "        grad[i] = (H_plus - H_minus)/(2*fd_delta)\n",
    "    \n",
    "    return grad\n",
    "\n",
    "def calc_gain(x_vals, thetas):\n",
    "    gain = 0 \n",
    "    for i in range(0,N_T):\n",
    "        gain = gain + running_gain(x_vals[:,i], thetas[:,i])*delta_t\n",
    "    return gain\n",
    "\n",
    "for i in range(0,N_T):\n",
    "        thetas[0,i] = 0.0\n",
    "        thetas[1,i] = 100.0\n",
    "        \n",
    "        x_vals[:,i+1] = x_vals[:,i] + drift_forward(x_vals[:,i],thetas[:,i]) * delta_t\n",
    "\n",
    "t_span = np.linspace(0, T, N_T+1)\n",
    "color = 'tab:red'\n",
    "fig, ax1 = plt.subplots()\n",
    "ax1.set_xlabel('time')\n",
    "ax1.set_ylabel('volume', color=color)\n",
    "ax1.plot(t_span, x_vals[0,:], color=color)\n",
    "ax1.tick_params(axis='y', labelcolor=color)\n",
    "\n",
    "ax2 = ax1.twinx()  # instantiate a second axes that shares the same x-axis\n",
    "\n",
    "color = 'tab:blue'\n",
    "ax2.set_ylabel('liquidity demand', color=color)  # we already handled the x-label with ax1\n",
    "ax2.plot(t_span, np.exp(x_vals[1,:]), color=color)\n",
    "ax2.tick_params(axis='y', labelcolor=color)\n",
    "\n",
    "fig.tight_layout()  # otherwise the right y-label is slightly clipped\n",
    "plt.show()\n",
    "\n",
    "print('Gain is %f' % (calc_gain(x_vals, thetas)))\n",
    "print(grad_in_x_of_hamiltonian(x_vals[:,0], np.zeros(4), thetas[:,0]))\n",
    "print(grad_in_theta_of_hamiltonian(x_vals[:,0], np.ones(4), thetas[:,0]))"
   ]
  },
  {
   "cell_type": "code",
   "execution_count": 3,
   "metadata": {},
   "outputs": [
    {
     "name": "stdout",
     "output_type": "stream",
     "text": [
      "Iter 0, Gain is 8.392212\n",
      "Iter 50, Gain is 15.330476\n",
      "Iter 100, Gain is 22.955457\n",
      "Iter 150, Gain is 23.907274\n",
      "Iter 200, Gain is 24.353099\n",
      "Iter 250, Gain is 24.658995\n",
      "Iter 300, Gain is 24.895052\n",
      "Iter 350, Gain is 25.088258\n",
      "Iter 400, Gain is 25.251340\n",
      "Iter 450, Gain is 25.391379\n",
      "Iter 500, Gain is 25.512885\n",
      "Iter 550, Gain is 25.619045\n",
      "Iter 600, Gain is 25.712272\n",
      "Iter 650, Gain is 25.794483\n",
      "Iter 700, Gain is 25.867246\n",
      "Iter 750, Gain is 25.931863\n",
      "Iter 800, Gain is 25.989432\n",
      "Iter 850, Gain is 26.040882\n",
      "Iter 900, Gain is 26.087007\n",
      "Iter 950, Gain is 26.128487\n",
      "Iter 1000, Gain is 26.165906\n",
      "Iter 1050, Gain is 26.199766\n",
      "Iter 1100, Gain is 26.230501\n",
      "Iter 1150, Gain is 26.258486\n",
      "Iter 1200, Gain is 26.284047\n",
      "Iter 1250, Gain is 26.307465\n",
      "Iter 1300, Gain is 26.328986\n",
      "Iter 1350, Gain is 26.348824\n",
      "Iter 1400, Gain is 26.367163\n",
      "Iter 1450, Gain is 26.384167\n",
      "Iter 1500, Gain is 26.399977\n",
      "Iter 1550, Gain is 26.414719\n",
      "Iter 1600, Gain is 26.428501\n",
      "Iter 1650, Gain is 26.441418\n",
      "Iter 1700, Gain is 26.453556\n",
      "Iter 1750, Gain is 26.464989\n",
      "Iter 1800, Gain is 26.475782\n",
      "Iter 1850, Gain is 26.485992\n",
      "Iter 1900, Gain is 26.495672\n",
      "Iter 1950, Gain is 26.504867\n",
      "Failed after 2000 iteration, diff is 0.000171\n",
      "Gain is 26.513446\n"
     ]
    }
   ],
   "source": [
    "# Fix learning rate rho\n",
    "rho = 10\n",
    "max_iter = 2000\n",
    "max_error = 0.000001\n",
    "\n",
    "# Fix time discretization\n",
    "delta_t = T / (N_T-1)\n",
    "\n",
    "# alpha_f is the 0th row, alpha_s the 1st row\n",
    "thetas = np.zeros([2,N_T+1])\n",
    "thetas_old = np.zeros([2,N_T+1])\n",
    "\n",
    "x_vals = np.zeros([4,N_T+1])\n",
    "x_vals[0,0] = initial_volume\n",
    "x_vals[1,0] = 0\n",
    "x_vals[2,0] = initial_fee\n",
    "x_vals[3,0] = initial_stake\n",
    "\n",
    "\n",
    "for i in range(0,N_T):\n",
    "    thetas_old[0,i] = 0.0\n",
    "    thetas_old[1,i] = 100\n",
    "\n",
    "\n",
    "p_vals = np.zeros([4,N_T+1])\n",
    "\n",
    "diff = 0; failed_to_converge=True\n",
    "\n",
    "gain_old = 0\n",
    "for iter_idx in range(0,max_iter):\n",
    "    # Run x forwards\n",
    "    for i in range(0,N_T):\n",
    "        x_vals[:,i+1] = x_vals[:,i]  + drift_forward(x_vals[:,i],thetas_old[:,i]) * delta_t\n",
    "    \n",
    "    # Run p backwards\n",
    "    p_vals[:,N_T] = np.zeros(4)\n",
    "    for i in reversed(range(0,N_T)):\n",
    "        grad_x_of_Ham = grad_in_x_of_hamiltonian(x_vals[:,i+1],p_vals[:,i+1],thetas[:,i+1])\n",
    "        p_vals[:,i] = p_vals[:,i+1] + grad_x_of_Ham * delta_t \n",
    "    \n",
    "    for i in range(0,N_T+1):\n",
    "        # Do one gradient ascent step (we are maximizing) \n",
    "        thetas[:,i] = thetas_old[:,i] + rho*grad_in_theta_of_hamiltonian(x_vals[:,i], p_vals[:,i], thetas_old[:,i])\n",
    "        \n",
    "    gain = calc_gain(x_vals, thetas)    \n",
    "    diff =  gain - gain_old\n",
    "    \n",
    "    if (math.isnan(gain)):\n",
    "        print('FAILED; iteration %d, diff is nan.' % iter_idx)\n",
    "        break\n",
    "    \n",
    "    if (abs(diff) < max_error):\n",
    "        print('Converged; iteration %d, diff is %f' % (iter_idx, diff))\n",
    "        failed_to_converge = False\n",
    "        break \n",
    "        \n",
    "    thetas_old = np.copy(thetas); gain_old = gain\n",
    "    if iter_idx % 50 == 0:\n",
    "        print('Iter %d, Gain is %f' % (iter_idx, gain))\n",
    "        \n",
    "if failed_to_converge:\n",
    "    print('Failed after %d iteration, diff is %f' % (max_iter, diff))\n",
    "    \n",
    "   \n",
    "print('Gain is %f' % (calc_gain(x_vals, thetas)))"
   ]
  },
  {
   "cell_type": "code",
   "execution_count": 4,
   "metadata": {},
   "outputs": [
    {
     "data": {
      "text/plain": [
       "<matplotlib.legend.Legend at 0x7fc7afc2dcd0>"
      ]
     },
     "execution_count": 4,
     "metadata": {},
     "output_type": "execute_result"
    },
    {
     "data": {
      "image/png": "[encoded data removed]",
      "text/plain": [
       "<Figure size 432x288 with 1 Axes>"
      ]
     },
     "metadata": {
      "needs_background": "light"
     },
     "output_type": "display_data"
    },
    {
     "data": {
      "image/png": "[encoded data removed]",
      "text/plain": [
       "<Figure size 432x288 with 1 Axes>"
      ]
     },
     "metadata": {
      "needs_background": "light"
     },
     "output_type": "display_data"
    },
    {
     "data": {
      "image/png": "[encoded data removed]",
      "text/plain": [
       "<Figure size 432x288 with 1 Axes>"
      ]
     },
     "metadata": {
      "needs_background": "light"
     },
     "output_type": "display_data"
    }
   ],
   "source": [
    "t_span = np.linspace(0, T, N_T+1)\n",
    "plt.plot(t_span, x_vals[0,:], label='Volume')\n",
    "plt.title('Volume evolution')\n",
    "plt.xlabel('time')\n",
    "plt.legend()\n",
    "\n",
    "fig = plt.figure()\n",
    "plt.plot(t_span, p_vals[0,:], label='adj. V')\n",
    "plt.plot(t_span, p_vals[1,:], label='adj. Z')\n",
    "plt.plot(t_span, p_vals[2,:], label='adj. f')\n",
    "plt.plot(t_span, p_vals[3,:], label='adj. S')\n",
    "plt.xlabel('time')\n",
    "plt.legend()\n",
    "\n",
    "fig = plt.figure()\n",
    "plt.plot(t_span, 100*fee_param_logistic(x_vals[2,:]), label='Fees x 100')\n",
    "plt.title('Fees')\n",
    "plt.xlabel('time')\n",
    "\n",
    "plt.plot(t_span, x_vals[3,:], color='red',label='Stake')\n",
    "plt.title('Fees x 100 and Stake')\n",
    "plt.xlabel('Time')\n",
    "plt.legend()\n",
    "\n"
   ]
  },
  {
   "cell_type": "code",
   "execution_count": 5,
   "metadata": {},
   "outputs": [
    {
     "data": {
      "text/plain": [
       "1.1051709180756477"
      ]
     },
     "execution_count": 5,
     "metadata": {},
     "output_type": "execute_result"
    }
   ],
   "source": [
    "np.exp(10*0.01)"
   ]
  },
  {
   "cell_type": "code",
   "execution_count": 6,
   "metadata": {},
   "outputs": [],
   "source": [
    "def grad_in_V_of_Hamiltonian(V,Z,f,S,p_V,p_Z):\n",
    "    return ( kappa_V - kappa_D*np.exp(Z) - kappa_f*f )*p_V + (1.0/V) * p_Z + f\n",
    "\n",
    "def grad_in_Z_of_Hamiltonian(V,Z,f,S,p_V,p_Z):\n",
    "    return (-kappa_D * np.exp(Z)*V)*p_V\n",
    "\n",
    "def grad_in_f_of_Hamiltonian(V,Z,f,S,p_V,p_Z):\n",
    "    return - kappa_f*V*p_V + V\n",
    "\n",
    "def grad_in_S_of_Hamiltonian(V,Z,f,S,p_V,p_Z):\n",
    "    return -(1.0/S)*p_Z - gamma\n",
    "\n",
    "def grad_in_x_of_hamiltonian_exact(x,p,theta):\n",
    "    V = x[0]; Z = x[1]; f = x[2]; S = x[3]; p_V = p[0]; p_Z = p[1]\n",
    "    grad_in_x_of_H = np.zeros(4)\n",
    "    grad_in_x_of_H[0] = grad_in_V_of_Hamiltonian(V,Z,f,S,p_V,p_Z)\n",
    "    grad_in_x_of_H[1] = grad_in_Z_of_Hamiltonian(V,Z,f,S,p_V,p_Z)\n",
    "    grad_in_x_of_H[2] = grad_in_f_of_Hamiltonian(V,Z,f,S,p_V,p_Z)\n",
    "    grad_in_x_of_H[3] = grad_in_S_of_Hamiltonian(V,Z,f,S,p_V,p_Z)\n",
    "    return grad_in_x_of_H\n",
    "\n",
    "def grad_in_alpha_f_of_Hamiltonian(p_f,alpha_f):\n",
    "    return p_f - delta_f * alpha_f\n",
    "\n",
    "def grad_in_alpha_S_of_Hamiltonian(p_S, alpha_S):\n",
    "    return p_S - delta_S * alpha_S\n",
    "\n",
    "def grad_in_theta_of_hamiltonian_exact(x,p,theta):\n",
    "    p_f = p[2]; p_S = p[3]; alpha_f = theta[0]; alpha_S = theta[1]\n",
    "    grad_in_theta_of_H = np.zeros(2)\n",
    "    grad_in_theta_of_H[0] = grad_in_alpha_f_of_Hamiltonian(p_f,alpha_f)\n",
    "    grad_in_theta_of_H[1] = grad_in_alpha_S_of_Hamiltonian(p_S,alpha_S)\n",
    "    return grad_in_theta_of_H\n"
   ]
  }
 ],
 "metadata": {
  "kernelspec": {
   "display_name": "Python 3",
   "language": "python",
   "name": "python3"
  },
  "language_info": {
   "codemirror_mode": {
    "name": "ipython",
    "version": 3
   },
   "file_extension": ".py",
   "mimetype": "text/x-python",
   "name": "python",
   "nbconvert_exporter": "python",
   "pygments_lexer": "ipython3",
   "version": "3.7.6"
  }
 },
 "nbformat": 4,
 "nbformat_minor": 2
}
