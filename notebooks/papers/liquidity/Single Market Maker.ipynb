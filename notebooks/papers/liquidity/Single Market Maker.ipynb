{
 "cells": [
  {
   "cell_type": "markdown",
   "metadata": {},
   "source": [
    "# Single Market Maker\n",
    "\n",
    "This notebook corresponds to section 4 (**Agent based models**) of \"Market Based Mechanisms for Incentivising Exchange Liquidity Provision\" available [here](https://vega.xyz/papers/liquidity.pdf). It models a single market maker."
   ]
  },
  {
   "cell_type": "code",
   "execution_count": null,
   "metadata": {},
   "outputs": [],
   "source": [
    "import math, sys \n",
    "import numpy as np\n",
    "from scipy import sparse\n",
    "from scipy.sparse import diags\n",
    "from mpl_toolkits.mplot3d import Axes3D\n",
    "import matplotlib.pyplot as plt\n",
    "from matplotlib import cm\n",
    "from os import path\n",
    "count = 0\n",
    "\n",
    "from matplotlib.backends.backend_pdf import PdfPages"
   ]
  },
  {
   "cell_type": "code",
   "execution_count": null,
   "metadata": {},
   "outputs": [],
   "source": [
    "T = 1;\n",
    "gamma = 0.1\n",
    "sigma = 0.1\n",
    "lambd = 0.1\n",
    "r = 0.0\n",
    "rRisk = 0.0 \n",
    "\n",
    "# This is the key; how does instantenaous trading volume react \n",
    "# to market making stake\n",
    "# and to fees\n",
    "\n",
    "def fee_volume_response(f):\n",
    "    return 2.0/(1+np.exp(10*f)) \n",
    "\n",
    "def stake_volume_response(S):\n",
    "    return 1.0 / (1+np.exp(-0.05*S+2)) - 1.0 / (1+np.exp(2))\n",
    "\n",
    "def trading_volume(f,S):\n",
    "    N_max = 2000\n",
    "    return  N_max * fee_volume_response(f) * stake_volume_response(S)\n",
    "    \n",
    "\n",
    "def running_gain(t,f,S):\n",
    "    return np.exp(-r*t) * (f * trading_volume(f,S) - lambd * sigma * S) - np.exp(rRisk*t)*S"
   ]
  },
  {
   "cell_type": "code",
   "execution_count": null,
   "metadata": {},
   "outputs": [],
   "source": [
    "x_span = np.linspace(0,1, 200) \n",
    "y = fee_volume_response(x_span)\n",
    "plt.xlabel('fee in %')\n",
    "plt.ylabel('volume in %')\n",
    "plt.title('Fee response')\n",
    "plt.plot(x_span,y)"
   ]
  },
  {
   "cell_type": "code",
   "execution_count": null,
   "metadata": {},
   "outputs": [],
   "source": [
    "x_span = np.linspace(0,200, 200) \n",
    "y = stake_volume_response(x_span)\n",
    "plt.xlabel('stake')\n",
    "plt.ylabel('volume in %')\n",
    "plt.title('Stake response')\n",
    "plt.plot(x_span,y)"
   ]
  },
  {
   "cell_type": "code",
   "execution_count": null,
   "metadata": {},
   "outputs": [],
   "source": [
    "# Alternative initialization \n",
    "\n",
    "L_S = 120;\n",
    "L_f = 1;\n",
    "\n",
    "N_T = 250; delta_t = T / (N_T-1);\n",
    "N_S = 30; \n",
    "N_f = 15; \n",
    "\n",
    "t_span = np.linspace(0,T, N_T)\n",
    "f_span = np.linspace(0, L_f, N_f)\n",
    "S_span = np.linspace(0, L_S, N_S)"
   ]
  },
  {
   "cell_type": "code",
   "execution_count": null,
   "metadata": {},
   "outputs": [],
   "source": [
    "def grid_idx_from(S,S_span):\n",
    "    min_S = S_span[0]\n",
    "    N_S = np.size(S_span)\n",
    "    max_S = S_span[N_S-1]\n",
    "    delta_S = (max_S-min_S)/(N_S-1)\n",
    "    return max(min(int(round(S/delta_S)), N_S-1),0)\n",
    "\n",
    "\n",
    "def update_value_at_time_idx(t_idx, a_vals, v_vals_old, v_vals_new):\n",
    "    for f_idx in range(0,N_f):\n",
    "        for S_idx in range(0,N_S):\n",
    "            f_new = f_span[f_idx] - gamma * a_vals[t_idx, f_idx, S_idx] * delta_t \n",
    "            S_new = S_span[S_idx] + a_vals[t_idx, f_idx, S_idx] * delta_t \n",
    "            t_new = t_span[t_idx] \n",
    "            \n",
    "            f_new_idx = grid_idx_from(f_new,f_span)\n",
    "            S_new_idx = grid_idx_from(S_new,S_span)\n",
    "            \n",
    "            v_vals_new[t_idx,f_idx,S_idx] = running_gain(t_new, f_new, S_new)*delta_t + v_vals_old[t_idx+1, f_new_idx, S_new_idx]\n",
    "\n",
    "\n",
    "def update_value(a_vals, v_vals_old, v_vals_new):\n",
    "    for t_idx in reversed(range(0,N_T-1)):\n",
    "        update_value_at_time_idx(t_idx, a_vals, v_vals_old, v_vals_new)\n",
    "\n",
    "controls_lookup = np.matrix([\n",
    "                     [0,-10], \n",
    "                     [1,0], \n",
    "                     [2,10],\n",
    "])        \n",
    "\n",
    "\n",
    "\n",
    "def calculate_one_step_gain(t_idx, f_idx, S_idx, v_vals):\n",
    "    t_new = t_span[t_idx] \n",
    "    gains = np.zeros(np.size(controls_lookup[:,1]))\n",
    "    for a in [-1,0,1]:\n",
    "        f_new = f_span[f_idx] - gamma * a * delta_t \n",
    "        S_new = S_span[S_idx] + a * delta_t \n",
    "        f_new_idx = max(min(f_idx - a, N_f-1),0)\n",
    "        S_new_idx = max(min(S_idx + a, N_S-1),0)\n",
    "        gains[a+1] = running_gain(t_new, f_new, S_new)*delta_t + v_vals[t_idx+1, f_new_idx, S_new_idx]\n",
    "    return gains\n",
    "\n",
    "            \n",
    "        \n",
    "def update_policy_at_time_idx(t_idx, v_vals, a_vals):\n",
    "    for f_idx in range(0,N_f):\n",
    "        for S_idx in range(0,N_S):\n",
    "            gains = calculate_one_step_gain(t_idx, f_idx, S_idx, v_vals)\n",
    "            idx_maximizing = np.argmax(gains)\n",
    "            a_vals[t_idx,f_idx, S_idx] = controls_lookup[idx_maximizing,1]\n",
    "        \n",
    "def update_policy(v_vals, a_vals):\n",
    "    for t_idx in reversed(range(0,N_T-1)):\n",
    "        update_policy_at_time_idx(t_idx, v_vals, a_vals)"
   ]
  },
  {
   "cell_type": "code",
   "execution_count": null,
   "metadata": {},
   "outputs": [],
   "source": [
    "max_iter = 100\n",
    "max_err = 3/(N_f*N_S)\n",
    "\n",
    "v_vals_new = np.zeros((np.size(t_span),np.size(f_span), np.size(S_span)))\n",
    "v_vals_old = np.zeros((np.size(t_span),np.size(f_span), np.size(S_span)))\n",
    "a_vals = np.zeros((np.size(t_span),np.size(f_span), np.size(S_span)))\n",
    "a_vals_old = np.zeros((np.size(t_span),np.size(f_span), np.size(S_span)))\n",
    "for iter_idx in range(0,max_iter):\n",
    "    update_value(a_vals, v_vals_old, v_vals_new)\n",
    "    a_vals_old = np.copy(a_vals)\n",
    "    update_policy(v_vals_new, a_vals)\n",
    "    diff_val = np.min(v_vals_new - v_vals_old)\n",
    "    diff_pol = np.sum(np.abs(a_vals_old - a_vals))/(N_f*N_S)\n",
    "    \n",
    "    v_vals_old = np.copy(v_vals_new)\n",
    "    \n",
    "    if (diff_pol < 1e-8):\n",
    "        print('Converged; change in policy fn. {0:1.5e}'.format(diff_pol))\n",
    "        break\n",
    "    else:\n",
    "        print('Will run another iteration; change in policy fn. {0:1.5e}'.format(diff_pol))\n",
    "\n"
   ]
  },
  {
   "cell_type": "code",
   "execution_count": null,
   "metadata": {},
   "outputs": [],
   "source": [
    "plotGridX, plotGridY = np.meshgrid(S_span, f_span)\n",
    "fig = plt.figure()\n",
    "ax1 = fig.add_subplot(projection='3d')\n",
    "surf = ax1.plot_surface(plotGridX, plotGridY, v_vals_new[0,:,:],linewidth=0, cmap=cm.jet, antialiased=True)\n",
    "ax1.set_xlabel('stake')\n",
    "ax1.set_ylabel('fee')\n",
    "ax1.set_zlabel('value')"
   ]
  },
  {
   "cell_type": "code",
   "execution_count": null,
   "metadata": {},
   "outputs": [],
   "source": [
    "plotGridX, plotGridY =  np.meshgrid(S_span, f_span)\n",
    "\n",
    "fig = plt.figure()\n",
    "ax1 = fig.add_subplot(111, projection='3d')\n",
    "\n",
    "surf = ax1.contourf(plotGridX, plotGridY, a_vals[N_T-2,:,:],linewidth=0, cmap=cm.jet, antialiased=True)\n",
    "ax1.set_xlabel('stake')\n",
    "ax1.set_ylabel('fee')\n",
    "ax1.set_zlabel('a')"
   ]
  },
  {
   "cell_type": "code",
   "execution_count": null,
   "metadata": {},
   "outputs": [],
   "source": [
    "stakes = np.zeros(N_T+1)\n",
    "stakes[0] = 20\n",
    "fees = np.zeros(N_T+1)\n",
    "fees[0] = 0.2\n",
    "\n",
    "actions = np.zeros(N_T+1)\n",
    "for i in range(0,N_T):\n",
    "    f_idx = grid_idx_from(fees[i],f_span)\n",
    "    S_idx = grid_idx_from(stakes[i],S_span)\n",
    "    a = a_vals[i,f_idx,S_idx]\n",
    "    fees[i+1] = fees[i] - gamma * a * delta_t\n",
    "    stakes[i+1] = stakes[i] + a * delta_t\n",
    "\n",
    "plt.plot(t_span, stakes[0:N_T])\n",
    "plt.title('Stake evolution')\n",
    "plt.xlabel('time')\n",
    "plt.ylabel('stake')\n",
    "fig = plt.figure()\n",
    "plt.plot(t_span, fees[0:N_T])\n",
    "plt.title('Fees evolution')\n",
    "plt.xlabel('time')\n",
    "plt.ylabel('fees')\n",
    "\n"
   ]
  },
  {
   "cell_type": "code",
   "execution_count": null,
   "metadata": {},
   "outputs": [],
   "source": [
    "np.shape(stakes[0:N_T])"
   ]
  },
  {
   "cell_type": "code",
   "execution_count": null,
   "metadata": {},
   "outputs": [],
   "source": [
    "x_span = np.linspace(0,1, 200) \n",
    "y = fee_volume_response(x_span)\n",
    "plt.xlabel('fee in %')\n",
    "plt.ylabel('volume in %')\n",
    "plt.plot(x_span,y)"
   ]
  },
  {
   "cell_type": "code",
   "execution_count": null,
   "metadata": {},
   "outputs": [],
   "source": [
    "y[100]"
   ]
  }
 ],
 "metadata": {
  "kernelspec": {
   "display_name": "Python 3",
   "language": "python",
   "name": "python3"
  },
  "language_info": {
   "codemirror_mode": {
    "name": "ipython",
    "version": 3
   },
   "file_extension": ".py",
   "mimetype": "text/x-python",
   "name": "python",
   "nbconvert_exporter": "python",
   "pygments_lexer": "ipython3",
   "version": "3.11.6"
  }
 },
 "nbformat": 4,
 "nbformat_minor": 2
}
