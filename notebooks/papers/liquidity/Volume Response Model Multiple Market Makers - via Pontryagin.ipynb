{
 "cells": [
  {
   "cell_type": "markdown",
   "metadata": {},
   "source": [
    "# Volume Response Model Multiple Market Makers - via Pontryagin\n",
    "\n",
    "This notebook corresponds to section 4 (**Agent based models**) of \"Market Based Mechanisms for Incentivising Exchange Liquidity Provision\" available [here](https://vega.xyz/papers/liquidity.pdf). It models a multiple market makers and solves the resulting game by an iterative scheme based on the Pontryagin optimality principle.\n",
    "\n",
    "## Problem formulation\n",
    "\n",
    "### Dynamics\n",
    "\n",
    "We will have $i=1,\\ldots,N$ market makers.\n",
    "Each market maker uses two controls: $\\theta^i_t = \\left[\\alpha^{i,f}_t, \\alpha^{i,S}_t \\right]$ which fix the speed of change in their desired fee and stake respectively: \n",
    "$$\n",
    "df^i_t = \\alpha^{i,f}_t dt\n",
    "$$\n",
    "and\n",
    "$$\n",
    "dS^i_t = \\alpha^{i,S}_t dt\\,.\n",
    "$$\n",
    "The trading volume in the market evolves as\n",
    "$$ dV_t = \\kappa_D \\left( \\text{LD}_F^{\\ast} - \\frac{V_t}{ \\bar S_t} \\right)V_t dt - \\kappa_f L(\\bar f_t) V_t dt, \\quad V_0 = v_0\\,,$$\n",
    "where $\\bar S_t = \\sum_{i=1}^N S^i_t$ and where\n",
    "$$\n",
    "L(f) = \\frac{1}{1 + \\exp(-(f-\\text{FP}^{\\text{mid}}))}\n",
    "$$\n",
    "is a logistic function determining the fee level from $\\bar f_t$.\n",
    "\n"
   ]
  },
  {
   "cell_type": "markdown",
   "metadata": {},
   "source": [
    "Let us now look at how $\\bar f_t$ is calculated. First we sort $f^i_t$ from smallest to largest: \n",
    "$$f^{\\pi(1)}_t \\leq f^{\\pi(2)}_t \\leq \\cdots \\leq f^{\\pi(N)}_t\\,.$$\n",
    "We calculate the cumulative stake corresponding to market makers providing fees, sorted from smallest to largest:\n",
    "$$\n",
    "C^i_t := \\sum_{j=1}^i S^{\\pi(j)}_t\\,. \n",
    "$$\n",
    "We check the index of the last market maker providing commitment needed to meet current liquidity demand:\n",
    "$$\n",
    "i^\\ast := \\max\\left\\{ i = 1,\\ldots,N : \\kappa_C C^i \\leq \\frac{V_t}{\\bar S_t} \\right\\} \\,.\n",
    "$$\n",
    "Finally we set \n",
    "$$\n",
    "\\bar f_t := \\sum_{j=1}^{i^\\ast + 1} f^{\\pi(i)}_t \\frac{S^{\\pi(i)}_t}{C^{i^\\ast+1}}\n",
    "$$"
   ]
  },
  {
   "cell_type": "markdown",
   "metadata": {},
   "source": [
    "### Optimization problem, Nash equilibrium\n",
    "\n",
    "The optimization criteria for market maker / agent $i$ is to maximize\n",
    "$$\n",
    "J^i(\\theta^{-i,f},\\theta^i) = \\int_0^T \\left( L(\\bar f_t^\\theta) V_t^\\theta  \\frac{S^i_t}{\\bar S_t^\\theta} - \\gamma^i S^i_t\\right)\\,dt\n",
    "$$\n",
    "\n",
    "We are hoping to find the Nash equilibrium i.e. strategies $\\hat \\theta$ such that for any $i$ taking some other $\\theta^i$ satisfies \n",
    "$$\n",
    "J^i(\\hat \\theta^{-i}, \\hat \\theta^i) \\geq J^i(\\hat \\theta^{-i}, \\theta^i)\\,.\n",
    "$$"
   ]
  },
  {
   "cell_type": "markdown",
   "metadata": {},
   "source": [
    "$$ dX^i_t = b\\left(\\mathbf{X}^i,\\mathbf{\\theta^i}\\right)dt$$\n",
    "where\n",
    "\n",
    "$$\\mathbf{X}_t = \\left[ V_t, f_t, S_t \\right], \\quad  \\mathbf{\\theta}_t = \\left[ \\alpha^f_t, \\alpha^S_t \\right] $$\n",
    "\n",
    "and\n",
    "$$ dV_t = \\kappa_D \\left( \\text{LD}_F^{\\ast} - \\frac{V_t}{\\kappa_S S_t} \\right)V_t dt - \\kappa_f\\frac{1}{1 + \\exp(-(f_t-\\text{FP}^{\\text{mid}}))}V_t dt, \\quad V_0 = v_0$$ \n",
    "\n",
    "where:\n",
    "\n",
    "* $V_t \\text{ denotes trading volume at time } t,$\n",
    "* $S_t \\text{ denotes stake level at time } t,$\n",
    "* $f_t \\text{ denotes fee level at time } t,$\n",
    "* $LD_F^{\\ast} \\text{ denotes liquidity demand mean-reversion level and corresponds to parameter } \\verb|liq_dem_F_star| \\text{ in the code}$,\n",
    "* $\\text{FP}^{\\text{mid}} = \\verb|fee_param_mid| $\n",
    "\n",
    "\n",
    "\n",
    "\n",
    "$$ $$\n",
    "\n",
    "$$b\\left(\\mathbf{X},\\mathbf{\\theta}\\right) = \\begin{bmatrix}\n",
    "\\kappa_D \\left( \\text{LD}_F^{\\ast} - \\frac{V}{\\kappa_S S} \\right)V - \\kappa_f\\frac{1}{1 + \\exp(-(f_t-\\text{FP}^{\\text{mid}}))}V \\\\\n",
    "\\alpha^f \\\\\n",
    "\\alpha^S \\\\\n",
    "\\end{bmatrix}$$\n",
    "\n",
    "Maximise: \n",
    "$$ J\\left(\\alpha^f, \\alpha^S \\right) = \\int_0^T F\\left(\\mathbf{X}_t, \\mathbf{\\theta}_t \\right) dt$$\n",
    "where\n",
    "$$F\\left(\\mathbf{X}_t, \\mathbf{\\theta}_t \\right) := \\frac{1}{1 + \\exp(-(f_t-\\text{FP}^{\\text{mid}}))} V_t - \\gamma S_t-\\frac{\\delta_f}{2}(\\alpha_t^f)^2-\\frac{\\delta_S}{2}(\\alpha_t^S)^2$$\n",
    "\n",
    "Let:\n",
    "\n",
    "$$H(\\mathbf{X}_t, \\mathbf{\\theta}_t, p) = b\\left(\\mathbf{X}_t,\\mathbf{\\theta}_t\\right) \\cdot p + F\\left(\\mathbf{X}_t, \\mathbf{\\theta}_t \\right)$$\n",
    "\n"
   ]
  },
  {
   "cell_type": "code",
   "execution_count": 1,
   "metadata": {},
   "outputs": [],
   "source": [
    "import math, sys \n",
    "import numpy as np\n",
    "\n",
    "from mpl_toolkits.mplot3d import Axes3D\n",
    "import matplotlib.pyplot as plt\n",
    "from matplotlib import cm\n",
    "from os import path\n",
    "count = 0\n",
    "\n",
    "from matplotlib.backends.backend_pdf import PdfPages"
   ]
  },
  {
   "cell_type": "code",
   "execution_count": 2,
   "metadata": {},
   "outputs": [],
   "source": [
    "# Number of agents\n",
    "N_agents = 3\n",
    "\n",
    "# global parameters\n",
    "T = 1.2\n",
    "kappa_D = 1.0\n",
    "kappa_f = 2.0\n",
    "kappa_S = 1.0\n",
    "kappa_C = 0.01\n",
    "fee_param_mid = 10.0\n",
    "liq_dem_F_star = 1.6\n",
    "initial_volume = 100\n",
    "\n",
    "# agent dependent parameters\n",
    "gamma = [0.04, 0.03, 0.02]; # cost of capital\n",
    "delta_f = 1e-2*np.ones(N_agents) # penalty for fee change, I don't see why this would ever be different across agents\n",
    "delta_S = 1e-15*np.ones(N_agents) # penalty for stake change, this could differ across agents as some may be able to access capital faster\n",
    "\n",
    "# agent dependent initial conditions\n",
    "initial_fee_sliders = [0.0, 0.0, 0.0]\n",
    "initial_stakes = [75, 50, 25]\n",
    "\n",
    "# Parameter for approximating partial derivatives\n",
    "fd_delta = 1e-6\n",
    "\n",
    "# Time discretization\n",
    "N_T = 40\n",
    "delta_t = T / (N_T-1)\n",
    "\n",
    "# 0 is volume\n",
    "# 1,...,N fees sliders for agents 1,...,N\n",
    "# N+1,...,2N stakes for agents 1,...,N\n",
    "x_vals = np.zeros([2*N_agents+1,N_T+1])\n",
    "x_vals[0,0] = initial_volume\n",
    "x_vals[1:(N_agents+1),0] = initial_fee_sliders\n",
    "x_vals[(N_agents+1):(2*N_agents)+1,0] = initial_stakes\n",
    "\n",
    "# thetas[0:(N-1),:] controls fee sliders, thetas[N:(2*N-1),:] controls the stakes\n",
    "thetas = np.zeros([2*N_agents,N_T+1])"
   ]
  },
  {
   "cell_type": "code",
   "execution_count": 3,
   "metadata": {},
   "outputs": [],
   "source": [
    "betas_vol = [0.5, 0.5, 0.5, 0.5]\n",
    "betas_cash = [0.2, 0.2, 0.2, 0.1]\n",
    "\n",
    "def terminal_volume_utility(volume,agt_idx):\n",
    "    beta = betas_vol[agt_idx]\n",
    "    return 0.002*np.power(volume,beta) # power utility; same for everyone\n",
    "\n",
    "def gain_utility(x,agt_idx):\n",
    "    beta = betas_cash[agt_idx]\n",
    "    return (1.0 - np.exp(-x*beta))/beta\n",
    "    return x\n",
    "    "
   ]
  },
  {
   "cell_type": "code",
   "execution_count": 4,
   "metadata": {},
   "outputs": [],
   "source": [
    "def fee_param_logistic(f):\n",
    "    min_fee = 0.001\n",
    "    max_fee = 3.0-min_fee\n",
    "    return min_fee + max_fee/(1.0+np.exp(-0.1*(f-fee_param_mid)))\n",
    "\n",
    "def fee_slider_from_fee_sliders_and_stakes(x):\n",
    "    volume = x[0]\n",
    "    fee_sliders = x[1:(N_agents+1)]\n",
    "    stakes = x[(N_agents+1):(2*N_agents+1)]\n",
    "    \n",
    "    assert sum(stakes)>0 , \"All stakes zero, not good.\"\n",
    "    total = sum(stakes)\n",
    "    fee_slider_bar = (1.0/total)*np.dot(fee_sliders,stakes)\n",
    "    #print(fee_slider_bar)\n",
    "    return fee_slider_bar"
   ]
  },
  {
   "cell_type": "code",
   "execution_count": 5,
   "metadata": {},
   "outputs": [
    {
     "name": "stdout",
     "output_type": "stream",
     "text": [
      "[1000. -200.  -10.  -10.   10.   20.   30.]\n",
      "Liquidity demand 16.666667\n",
      "Fee slider -41.666667\n",
      "Fee 0.018008\n"
     ]
    }
   ],
   "source": [
    "N_agents = 3\n",
    "x_test = np.zeros(2*N_agents+1)\n",
    "volume = 1000\n",
    "x_test[0] = volume\n",
    "fees_sliders = [-200.0, -10.0, -10.0]\n",
    "x_test[1:(N_agents+1)] = fees_sliders\n",
    "stakes = [10,20,30]\n",
    "x_test[(N_agents+1):2*(N_agents+1)] = stakes\n",
    "print(x_test)\n",
    "LD = volume/sum(stakes)\n",
    "print(\"Liquidity demand %f\" % LD)\n",
    "fee_slider_bar = fee_slider_from_fee_sliders_and_stakes(x_test)\n",
    "print(\"Fee slider %f\" % fee_slider_bar)\n",
    "print(\"Fee %f\" % fee_param_logistic(fee_slider_bar))"
   ]
  },
  {
   "cell_type": "code",
   "execution_count": 6,
   "metadata": {},
   "outputs": [],
   "source": [
    "def drift_forward(x, theta):\n",
    "    V = x[0]; fee_sliders = x[1:(N_agents+1)]; stakes = x[(N_agents+1):(2*N_agents+1)]\n",
    "    fee_slider_bar = fee_slider_from_fee_sliders_and_stakes(x)\n",
    "    fee = fee_param_logistic(fee_slider_bar)\n",
    "\n",
    "    b = np.zeros(2*N_agents+1)    \n",
    "    b[0] = kappa_D * (liq_dem_F_star - V / (kappa_S * np.sum(stakes))) * V -  kappa_f * fee * V \n",
    "    b[1:(N_agents+1)] = theta[0:N_agents]*np.maximum.reduce([stakes,np.zeros(np.size(stakes))]) \n",
    "    b[(N_agents+1):(2*N_agents+1)] = theta[N_agents:2*N_agents]\n",
    "    return b\n",
    "\n",
    "\n",
    "def running_gain(x, theta, i):\n",
    "    V = x[0]; fee_sliders = x[1:(N_agents+1)]; stakes = x[(N_agents+1):(2*N_agents+1)]\n",
    "    alpha_f = theta[0:N_agents]; alpha_s = theta[N_agents:2*N_agents]\n",
    "    fee_slider_bar = fee_slider_from_fee_sliders_and_stakes(x)\n",
    "    fee = fee_param_logistic(fee_slider_bar)\n",
    "    \n",
    "    gain = (stakes[i] > 0) * fee * V * stakes[i]/np.sum(stakes) - gamma[i]*max(stakes[i],0) \n",
    "    gain = gain_utility(gain, i) - 0.5*delta_f[i]*alpha_f[i]**2 - 0.5*delta_S[i]*alpha_s[i]**2\n",
    "    return gain \n",
    "\n",
    "\n",
    "def hamiltonian(x, p, theta, agent_idx):\n",
    "    selected = [0, agent_idx + 1, N_agents + agent_idx + 1]\n",
    "    return np.dot(drift_forward(x,theta)[selected],p) + running_gain(x, theta, agent_idx)    \n",
    "\n",
    "# should return a vector of length 3, first component for V, second for f^i, third for S^i\n",
    "def grad_in_x_of_hamiltonian(x,p,theta,agent_idx):\n",
    "    selected = [0, agent_idx + 1, N_agents + agent_idx + 1]\n",
    "    dim = np.size(x)\n",
    "    grad = np.zeros(dim)\n",
    "    for i in selected:\n",
    "        x_plus_delta = np.copy(x); x_plus_delta[i] = x[i] + fd_delta\n",
    "        H_plus = hamiltonian(x_plus_delta,p,theta,agent_idx)\n",
    "        H = hamiltonian(x,p,theta,agent_idx)\n",
    "        grad[i] = (H_plus - H)/fd_delta\n",
    "    return grad[selected]\n",
    "\n",
    "\n",
    "\n",
    "def grad_in_theta_of_hamiltonian(x,p,theta, agent_idx):\n",
    "    selected_thetas = [agent_idx, N_agents + agent_idx]\n",
    "    dim = np.size(theta)\n",
    "    grad = np.zeros(dim)\n",
    "    for i in selected_thetas:\n",
    "        theta_plus_delta = np.copy(theta); theta_plus_delta[i] = theta[i] + fd_delta\n",
    "        theta_minus_delta = np.copy(theta); theta_minus_delta[i] = theta[i] - fd_delta\n",
    "        H_plus = hamiltonian(x, p, theta_plus_delta, agent_idx)\n",
    "        H_minus = hamiltonian(x, p, theta_minus_delta, agent_idx)\n",
    "        grad[i] = (H_plus - H_minus)/(2*fd_delta)\n",
    "    \n",
    "    return grad[selected_thetas]\n",
    "\n",
    "\n",
    "def calc_gain(x_vals, thetas, agent_idx):\n",
    "    gain = 0 \n",
    "    for i in range(0,N_T):\n",
    "        gain = gain + running_gain(x_vals[:,i], thetas[:,i], agent_idx)*delta_t\n",
    "    \n",
    "    gain = gain + terminal_volume_utility(x_vals[0,N_T],agent_idx)\n",
    "    return gain"
   ]
  },
  {
   "cell_type": "code",
   "execution_count": 7,
   "metadata": {},
   "outputs": [
    {
     "data": {
      "image/png": "[encoded data removed]",
      "text/plain": [
       "<Figure size 432x288 with 2 Axes>"
      ]
     },
     "metadata": {
      "needs_background": "light"
     },
     "output_type": "display_data"
    },
    {
     "name": "stdout",
     "output_type": "stream",
     "text": [
      "Gain is 5.671076\n",
      "[0.00022885 0.00083548 0.0001299 ]\n",
      "[75.  1.]\n"
     ]
    }
   ],
   "source": [
    "for i in range(0,N_T):\n",
    "        thetas[0:N_agents,i] = 0.0\n",
    "        thetas[(N_agents+1):(2*N_agents+1),i] = 100.0\n",
    "        \n",
    "        x_vals[:,i+1] = x_vals[:,i] + drift_forward(x_vals[:,i],thetas[:,i]) * delta_t\n",
    "\n",
    "t_span = np.linspace(0, T, N_T+1)\n",
    "color = 'tab:red'\n",
    "fig, ax1 = plt.subplots()\n",
    "ax1.set_xlabel('time')\n",
    "ax1.set_ylabel('volume', color=color)\n",
    "ax1.plot(t_span, x_vals[0,:], color=color)\n",
    "ax1.tick_params(axis='y', labelcolor=color)\n",
    "\n",
    "ax2 = ax1.twinx()  # instantiate a second axes that shares the same x-axis\n",
    "\n",
    "color = 'tab:blue'\n",
    "ax2.set_ylabel('fee shifter', color=color)  # we already handled the x-label with ax1\n",
    "ax2.plot(t_span, np.exp(x_vals[1,:]), color=color)\n",
    "ax2.tick_params(axis='y', labelcolor=color)\n",
    "\n",
    "fig.tight_layout()  # otherwise the right y-label is slightly clipped\n",
    "plt.show()\n",
    "\n",
    "print('Gain is %f' % (calc_gain(x_vals, thetas,0)))\n",
    "print(grad_in_x_of_hamiltonian(x_vals[:,0], np.zeros(3), thetas[:,0], 0))\n",
    "print(grad_in_theta_of_hamiltonian(x_vals[:,0], np.ones(3), thetas[:,0], 0))"
   ]
  },
  {
   "cell_type": "code",
   "execution_count": 8,
   "metadata": {},
   "outputs": [],
   "source": [
    "# Fix optimization algo parameters\n",
    "rho = 0.05\n",
    "sigma = 0.1 # randomization for convergence\n",
    "max_iter = 2000\n",
    "max_error = 0.00001\n",
    "print_ctr = 200 # when to print updates\n",
    "\n",
    "# index 0 is volume\n",
    "# 1,...,N fees sliders for agents 1,...,N\n",
    "# N+1,...,2N stakes for agents 1,...,N\n",
    "x_vals = np.zeros([2*N_agents+1,N_T+1])\n",
    "x_vals[0,0] = initial_volume\n",
    "x_vals[1:(N_agents+1),0] = initial_fee_sliders\n",
    "x_vals[(N_agents+1):(2*N_agents)+1,0] = initial_stakes\n",
    "\n",
    "# thetas[0:(N-1),:] controls fee sliders, thetas[N:(2*N-1),:] controls the stakes\n",
    "thetas = np.zeros([2*N_agents,N_T+1])\n",
    "thetas_old = np.zeros([2*N_agents,N_T+1])\n",
    "\n",
    "diff = 0; failed_to_converge=True\n",
    "\n",
    "gains = np.zeros(N_agents)\n",
    "gains_old = np.zeros(N_agents)\n",
    "errors = np.zeros(N_agents)\n"
   ]
  },
  {
   "cell_type": "code",
   "execution_count": 9,
   "metadata": {},
   "outputs": [
    {
     "name": "stdout",
     "output_type": "stream",
     "text": [
      "Iter 0,  agt 0, gain 6.118841, agt 1, gain 5.962580, agt 2, gain 5.150669,\n",
      "Iter 200,  agt 0, gain 5.778760, agt 1, gain 5.279575, agt 2, gain 4.011904,\n",
      "Iter 400,  agt 0, gain 5.521823, agt 1, gain 4.841850, agt 2, gain 3.660547,\n",
      "Iter 600,  agt 0, gain 5.475335, agt 1, gain 4.667747, agt 2, gain 3.693685,\n",
      "Iter 800,  agt 0, gain 5.384517, agt 1, gain 4.443812, agt 2, gain 3.619283,\n",
      "Iter 1000,  agt 0, gain 5.352830, agt 1, gain 4.358006, agt 2, gain 3.700328,\n",
      "Iter 1200,  agt 0, gain 5.304772, agt 1, gain 4.228923, agt 2, gain 3.809983,\n",
      "Iter 1400,  agt 0, gain 5.099696, agt 1, gain 3.893303, agt 2, gain 3.572415,\n",
      "Iter 1600,  agt 0, gain 5.019424, agt 1, gain 3.826438, agt 2, gain 3.588053,\n",
      "Iter 1800,  agt 0, gain 4.986732, agt 1, gain 3.722573, agt 2, gain 3.637532,\n",
      "Failed after 2000 iteration, diff is 0.125529\n"
     ]
    }
   ],
   "source": [
    "\n",
    "for iter_idx in range(0,max_iter):\n",
    "    if iter_idx % print_ctr == 0:\n",
    "        print('Iter %d, ' % (iter_idx),end='')\n",
    "    \n",
    "    # Run x forwards\n",
    "    for i in range(0,N_T):\n",
    "        x_vals[:,i+1] = x_vals[:,i]  + drift_forward(x_vals[:,i],thetas_old[:,i]) * delta_t\n",
    "    \n",
    "    for agt_idx in range(0,N_agents):\n",
    "        p_vals = np.zeros([3,N_T+1])\n",
    "        # Run p backwards\n",
    "        p_vals[:,N_T] = np.zeros(3);\n",
    "        p_vals[0,N_T] = terminal_volume_utility(x_vals[0,N_T],agt_idx)\n",
    "    \n",
    "        for i in reversed(range(0,N_T)):\n",
    "            grad_x_of_Ham = grad_in_x_of_hamiltonian(x_vals[:,i+1],p_vals[:,i+1],thetas[:,i+1], agt_idx)\n",
    "            p_vals[:,i] = p_vals[:,i+1] + grad_x_of_Ham * delta_t \n",
    "    \n",
    "        # Do one gradient ascent step (we are maximizing) \n",
    "        selected_thetas = [agt_idx, N_agents + agt_idx]\n",
    "        random_shock = sigma * np.sqrt(rho)*np.random.normal(0,1,size=np.size(thetas[selected_thetas,0]))\n",
    "        for i in range(0,N_T+1): \n",
    "            thetas[selected_thetas,i] = thetas_old[selected_thetas,i] + rho*grad_in_theta_of_hamiltonian(x_vals[:,i], p_vals[:,i], thetas_old[:,i],agt_idx)\n",
    "            thetas[selected_thetas,i] = thetas[selected_thetas,i] + random_shock\n",
    "        \n",
    "        gains[agt_idx] = calc_gain(x_vals, thetas, agt_idx)    \n",
    "        if (math.isnan(gains[agt_idx])):\n",
    "            print('')\n",
    "            print('FAILED; agent %d, iteration %d, diff is nan.' % (agt_idx,iter_idx))\n",
    "            break\n",
    "        \n",
    "        errors[agt_idx] = abs(gains[agt_idx] - gains_old[agt_idx])\n",
    "        if iter_idx % print_ctr == 0:\n",
    "            print(' agt %d, gain %f,' % (agt_idx, gains[agt_idx]),end='')\n",
    "    \n",
    "    thetas_old = np.copy(thetas)\n",
    "    gains_old = np.copy(gains)\n",
    "    if (sum(errors) < max_error):\n",
    "        print('')\n",
    "        print('Converged; iteration %d, error is %f' % (iter_idx, sum(errors)))\n",
    "        failed_to_converge = False\n",
    "        print(gains)\n",
    "        print(gains_old)\n",
    "        break \n",
    "                    \n",
    "    \n",
    "    if iter_idx % print_ctr == 0:\n",
    "        print('')\n",
    "        \n",
    "if failed_to_converge:\n",
    "    print('Failed after %d iteration, diff is %f' % (max_iter, sum(errors)))"
   ]
  },
  {
   "cell_type": "code",
   "execution_count": 10,
   "metadata": {},
   "outputs": [
    {
     "name": "stdout",
     "output_type": "stream",
     "text": [
      "Min fee 21.538417, Max fee 80.755532, Average fee 27.140032\n",
      "Agt 0 minimum stake 75.000000\n",
      "Agt 1 minimum stake 50.000000\n",
      "Agt 2 minimum stake 25.000000\n"
     ]
    },
    {
     "data": {
      "image/png": "[encoded data removed]",
      "text/plain": [
       "<Figure size 432x288 with 1 Axes>"
      ]
     },
     "metadata": {
      "needs_background": "light"
     },
     "output_type": "display_data"
    },
    {
     "data": {
      "image/png": "[encoded data removed]",
      "text/plain": [
       "<Figure size 432x288 with 1 Axes>"
      ]
     },
     "metadata": {
      "needs_background": "light"
     },
     "output_type": "display_data"
    },
    {
     "data": {
      "image/png": "[encoded data removed]",
      "text/plain": [
       "<Figure size 432x288 with 1 Axes>"
      ]
     },
     "metadata": {
      "needs_background": "light"
     },
     "output_type": "display_data"
    }
   ],
   "source": [
    "t_span = np.linspace(0, T, N_T+1)\n",
    "plt.plot(t_span, x_vals[0,:], label='Volume')\n",
    "plt.title('Volume evolution')\n",
    "plt.xlabel('time')\n",
    "plt.legend()\n",
    "\n",
    "fig = plt.figure()\n",
    "fees = np.zeros(N_T+1)\n",
    "for i in range(0,(N_T+1)):\n",
    "    fee_slider_bar = fee_slider_from_fee_sliders_and_stakes(x_vals[:,i])\n",
    "    fees[i] = fee_param_logistic(fee_slider_bar)\n",
    "\n",
    "print('Min fee %f, Max fee %f, Average fee %f' % (100*min(fees), 100*max(fees), 100*np.average(fees)))    \n",
    "    \n",
    "for agt_idx in range(0, N_agents):\n",
    "    label_txt = 'Agt %d fee' % agt_idx\n",
    "    plt.plot(t_span, 100*fee_param_logistic(x_vals[1+agt_idx,:]), label=label_txt)\n",
    "\n",
    "plt.plot(t_span, 100*fees, label='Mkt Fee x 100')    \n",
    "plt.title('Fees x 100')\n",
    "plt.xlabel('Time')\n",
    "plt.legend()\n",
    "plt.savefig('fees_evolution_1.pdf')\n",
    "\n",
    "\n",
    "fig = plt.figure()\n",
    "\n",
    "for agt_idx in range(0, N_agents):\n",
    "    label_txt = 'Agt %d stake' % agt_idx\n",
    "    plt.plot(t_span, x_vals[1+N_agents+agt_idx,:], label=label_txt)\n",
    "    print('Agt %d minimum stake %f' % (agt_idx, min(x_vals[1+N_agents+agt_idx,:])  ))\n",
    "\n",
    "\n",
    "plt.title('Stakes')\n",
    "plt.xlabel('Time')\n",
    "plt.legend()\n",
    "plt.savefig('stakes_evolution_1.pdf')"
   ]
  }
 ],
 "metadata": {
  "kernelspec": {
   "display_name": "Python 3",
   "language": "python",
   "name": "python3"
  },
  "language_info": {
   "codemirror_mode": {
    "name": "ipython",
    "version": 3
   },
   "file_extension": ".py",
   "mimetype": "text/x-python",
   "name": "python",
   "nbconvert_exporter": "python",
   "pygments_lexer": "ipython3",
   "version": "3.7.6"
  }
 },
 "nbformat": 4,
 "nbformat_minor": 2
}
